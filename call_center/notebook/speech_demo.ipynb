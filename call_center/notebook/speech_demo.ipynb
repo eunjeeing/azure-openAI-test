{
 "cells": [
  {
   "attachments": {},
   "cell_type": "markdown",
   "metadata": {},
   "source": [
    "### Azure Speech를 사용하여 Speech-To-Text"
   ]
  },
  {
   "cell_type": "code",
   "execution_count": 4,
   "metadata": {},
   "outputs": [
    {
     "name": "stdout",
     "output_type": "stream",
     "text": [
      "SESSION STARTED: SessionEventArgs(session_id=4f5b3ca1cd4b47ceace2895a8f76ca9f)\n",
      "RECOGNIZED: 강렬한 햇살에 아스팔트가 뜨겁게 달궈지며 아지랑이가 피어오릅니다.\n",
      "RECOGNIZED: 무더위에 연신 물을 마시며 타는 목을 추겨봅니다.\n",
      "RECOGNIZED: 인도 마하라슈트라를 강타한 때이른 이상고온 현상은 한여름만큼 강력했습니다.\n",
      "RECOGNIZED: 수십만 명이 참여한 야외행사에서는 무려 열세명이 열사병으로 숨졌습니다.\n",
      "RECOGNIZED: 지난 오 일간 인도에서는 기온이 44.6 도까지 치솟았고, 중국도 35도를 넘어서면서 역대 4월 최고기온을 갈아치웠습니다.\n",
      "RECOGNIZED: 태국에서는 기온이 45.4 도까지 치솟으며 사상 첫 45도를 넘는 봄철 기온으로 기록됐습니다.\n",
      "RECOGNIZED: 최근 벵골만과 서태평양 부근에는 키 큰 해양성 고기압이 자리 잡게 되면서 남쪽으로부터 뜨겁고 습한 공기가 다량 북쪽으로 유입된 현상이 있었습니다. 사 월부터 아시아 지역은 북쪽 선선한 공기와 남쪽 뜨거운 공기가 교차하게 됩니다.\n",
      "RECOGNIZED: 이 과정에서 갑자기 기온이 오르는 일은 있지만 최근 이상기온은 유례없이 강력합니다.\n",
      "RECOGNIZED: 국방부의 고온현상은 여름이 오기 전 사월부터 가끔 나타나는 현상입니다. 하지만 최근의 이상 고온 현상은 온난화의 영향으로 시기가 더 빨라지고 강도도 훨씬 세지는 경향을 보이고 있습니다. 우리나라에도 서울 기온이 34년 만에 4월 중순 최고 기온을 기록했고, 경북 지역은 30도를 넘는 초여름 더위가 나타났습니다. 오늘부터 동아시아 지역은 기온이 제자리를 되찾겠지만 동남아시아와 서아시아 지역의 고온 영상은?\n",
      "RECOGNIZED: 당분간 계속될 전망입니다. Ytn 김민경입니다.\n",
      "CANCELED SpeechRecognitionCanceledEventArgs(session_id=4f5b3ca1cd4b47ceace2895a8f76ca9f, result=SpeechRecognitionResult(result_id=b9a950d0cdd242acbf61d2aedb95b62b, text=\"\", reason=ResultReason.Canceled))\n",
      "CLOSING on SpeechRecognitionCanceledEventArgs(session_id=4f5b3ca1cd4b47ceace2895a8f76ca9f, result=SpeechRecognitionResult(result_id=b9a950d0cdd242acbf61d2aedb95b62b, text=\"\", reason=ResultReason.Canceled))\n",
      "SESSION STOPPED SessionEventArgs(session_id=4f5b3ca1cd4b47ceace2895a8f76ca9f)\n",
      "CLOSING on SessionEventArgs(session_id=4f5b3ca1cd4b47ceace2895a8f76ca9f)\n"
     ]
    }
   ],
   "source": [
    "import azure.cognitiveservices.speech as speechsdk\n",
    "import time\n",
    "import os\n",
    "\n",
    "text_list = []\n",
    "\n",
    "# 파일에서 음성 인식\n",
    "def from_file(filename):\n",
    "    speech_config = speechsdk.SpeechConfig(subscription=os.getenv(\"SPEECH_API_KEY\"), region=\"koreacentral\", speech_recognition_language=\"ko-KR\")\n",
    "\n",
    "    audio_config = speechsdk.AudioConfig(filename=filename)\n",
    "    speech_recognizer = speechsdk.SpeechRecognizer(speech_config=speech_config, audio_config=audio_config)\n",
    "\n",
    "    # 음성 인식 상태\n",
    "    done = False\n",
    "    \n",
    "    def stop_cb(evt):\n",
    "        print('CLOSING on {}'.format(evt))\n",
    "        speech_recognizer.stop_continuous_recognition()\n",
    "        nonlocal done\n",
    "        done = True\n",
    "\n",
    "    def recognized(evt: speechsdk.SpeechRecognitionEventArgs):\n",
    "        text_list.append(evt.result.text)\n",
    "        print('RECOGNIZED: {}'.format(evt.result.text))\n",
    "\n",
    "    # 최종 인식 결과가 포함된 이벤트에 대한 신호 \n",
    "    speech_recognizer.recognized.connect(recognized)\n",
    "    # 인식 세션의 시작을 나타내는 이벤트에 대한 신호 \n",
    "    speech_recognizer.session_started.connect(lambda evt: print('SESSION STARTED: {}'.format(evt)))\n",
    "    # 인식 세션의 끝을 나타내는 이벤트에 대한 신호 \n",
    "    speech_recognizer.session_stopped.connect(lambda evt: print('SESSION STOPPED {}'.format(evt)))\n",
    "    # 취소된 인식 결과가 포함된 이벤트에 대한 신호 \n",
    "    speech_recognizer.canceled.connect(lambda evt: print('CANCELED {}'.format(evt)))\n",
    "\n",
    "    speech_recognizer.session_stopped.connect(stop_cb)\n",
    "    speech_recognizer.canceled.connect(stop_cb)\n",
    "\n",
    "    # 연속 인식 작업 시작 \n",
    "    speech_recognizer.start_continuous_recognition()\n",
    "\n",
    "    while not done:\n",
    "        time.sleep(.5)\n",
    "\n",
    "from_file(\"../data/[자막뉴스] 타들어 가는 아시아...역대급 '이상 조짐'.wav\")"
   ]
  },
  {
   "cell_type": "code",
   "execution_count": 5,
   "metadata": {},
   "outputs": [
    {
     "name": "stdout",
     "output_type": "stream",
     "text": [
      "강렬한 햇살에 아스팔트가 뜨겁게 달궈지며 아지랑이가 피어오릅니다.\n",
      "무더위에 연신 물을 마시며 타는 목을 추겨봅니다.\n",
      "인도 마하라슈트라를 강타한 때이른 이상고온 현상은 한여름만큼 강력했습니다.\n",
      "수십만 명이 참여한 야외행사에서는 무려 열세명이 열사병으로 숨졌습니다.\n",
      "지난 오 일간 인도에서는 기온이 44.6 도까지 치솟았고, 중국도 35도를 넘어서면서 역대 4월 최고기온을 갈아치웠습니다.\n",
      "태국에서는 기온이 45.4 도까지 치솟으며 사상 첫 45도를 넘는 봄철 기온으로 기록됐습니다.\n",
      "최근 벵골만과 서태평양 부근에는 키 큰 해양성 고기압이 자리 잡게 되면서 남쪽으로부터 뜨겁고 습한 공기가 다량 북쪽으로 유입된 현상이 있었습니다. 사 월부터 아시아 지역은 북쪽 선선한 공기와 남쪽 뜨거운 공기가 교차하게 됩니다.\n",
      "이 과정에서 갑자기 기온이 오르는 일은 있지만 최근 이상기온은 유례없이 강력합니다.\n",
      "국방부의 고온현상은 여름이 오기 전 사월부터 가끔 나타나는 현상입니다. 하지만 최근의 이상 고온 현상은 온난화의 영향으로 시기가 더 빨라지고 강도도 훨씬 세지는 경향을 보이고 있습니다. 우리나라에도 서울 기온이 34년 만에 4월 중순 최고 기온을 기록했고, 경북 지역은 30도를 넘는 초여름 더위가 나타났습니다. 오늘부터 동아시아 지역은 기온이 제자리를 되찾겠지만 동남아시아와 서아시아 지역의 고온 영상은?\n",
      "당분간 계속될 전망입니다. Ytn 김민경입니다.\n"
     ]
    }
   ],
   "source": [
    "# 리스트를 문자열로 변환\n",
    "print(*text_list, sep='\\n')\n",
    "text = ' '.join(text_list)"
   ]
  },
  {
   "attachments": {},
   "cell_type": "markdown",
   "metadata": {},
   "source": [
    "### Set up Azure OpenAI"
   ]
  },
  {
   "cell_type": "code",
   "execution_count": 6,
   "metadata": {},
   "outputs": [],
   "source": [
    "import openai\n",
    "from dotenv import load_dotenv\n",
    "\n",
    "load_dotenv()\n",
    "\n",
    "openai.api_type = 'azure'\n",
    "openai.api_version = '2023-03-15-preview' # 최신 버전\n",
    "openai.api_base = os.getenv(\"OPENAI_API_BASE\")\n",
    "openai.api_key = os.getenv(\"OPENAI_API_KEY\")"
   ]
  },
  {
   "attachments": {},
   "cell_type": "markdown",
   "metadata": {},
   "source": [
    "#### 모델 배포"
   ]
  },
  {
   "cell_type": "code",
   "execution_count": 7,
   "metadata": {},
   "outputs": [
    {
     "name": "stdout",
     "output_type": "stream",
     "text": [
      "Found a succeeded deployment of \"text-davinci-003\" that supports text completion with id: text-davinci-003.\n"
     ]
    }
   ],
   "source": [
    "desired_model = 'text-davinci-003' \n",
    "desired_capability = 'completion'\n",
    "\n",
    "# list models deployed\n",
    "deployment_id = None\n",
    "result = openai.Deployment.list()\n",
    "\n",
    "for deployment in result.data:\n",
    "    if deployment[\"status\"] != \"succeeded\":\n",
    "        continue\n",
    "    \n",
    "    model = openai.Model.retrieve(deployment[\"model\"])\n",
    "\n",
    "    if model[\"id\"] == desired_model and model['capabilities'][desired_capability]:\n",
    "        deployment_id = deployment[\"id\"]\n",
    "        \n",
    "# if not model deployed, deploy one\n",
    "if not deployment_id:\n",
    "    print('No deployment with status: succeeded found.')\n",
    "\n",
    "    # Now let's create the deployment\n",
    "    print(f'Creating a new deployment with model: {desired_model}')\n",
    "    result = openai.Deployment.create(model=desired_model, scale_settings={\"scale_type\":\"standard\"})\n",
    "    deployment_id = result[\"id\"]\n",
    "    print(f'Successfully created {desired_model} that supports text {desired_capability} with id: {deployment_id}.')\n",
    "else:\n",
    "    print(f'Found a succeeded deployment of \"{desired_model}\" that supports text {desired_capability} with id: {deployment_id}.')"
   ]
  },
  {
   "attachments": {},
   "cell_type": "markdown",
   "metadata": {},
   "source": [
    "### Request API"
   ]
  },
  {
   "cell_type": "code",
   "execution_count": 8,
   "metadata": {},
   "outputs": [],
   "source": [
    "def request_api(document, prompt_postfix, max_tokens):\n",
    "    prompt = prompt_postfix.replace('<document>',document)\n",
    "\n",
    "    response = openai.Completion.create(  \n",
    "    deployment_id=deployment_id, \n",
    "    prompt=prompt,\n",
    "    temperature=0,\n",
    "    max_tokens=max_tokens,\n",
    "    top_p=1,\n",
    "    frequency_penalty=0,\n",
    "    presence_penalty=0)\n",
    "    # stop='###')\n",
    "\n",
    "    return response['choices'][0]['text']"
   ]
  },
  {
   "attachments": {},
   "cell_type": "markdown",
   "metadata": {},
   "source": [
    "#### 뉴스 내용 요약"
   ]
  },
  {
   "cell_type": "code",
   "execution_count": 11,
   "metadata": {},
   "outputs": [
    {
     "name": "stdout",
     "output_type": "stream",
     "text": [
      " <document>\n",
      "  \n",
      "###\n",
      "  \n",
      "다음 내용을 두 문장으로 요약해줘.\n",
      "  \n",
      "Summary : \n",
      "\n"
     ]
    }
   ],
   "source": [
    "prompt_postfix = \"\"\" <document>\n",
    "  \\n###\n",
    "  \\n다음 내용을 두 문장으로 요약해줘.\n",
    "  \\nSummary : \n",
    "\"\"\"\n",
    "\n",
    "print(prompt_postfix)"
   ]
  },
  {
   "cell_type": "code",
   "execution_count": 12,
   "metadata": {},
   "outputs": [
    {
     "name": "stdout",
     "output_type": "stream",
     "text": [
      "\n",
      "인도와 중국, 태국 등 동아시아 지역에서는 역대 최고 기온을 기록하며 열사병이 발생하고 있습니다. 온난화의 영향으로 시기가 더 빨라지고 강도도 세지는 경향이 보이고 있습니다.\n"
     ]
    }
   ],
   "source": [
    "max_tokens = 2000 \n",
    "summary = request_api(text, prompt_postfix, max_tokens)\n",
    "\n",
    "print(summary)"
   ]
  },
  {
   "attachments": {},
   "cell_type": "markdown",
   "metadata": {},
   "source": [
    "#### 중국어로 번역"
   ]
  },
  {
   "cell_type": "code",
   "execution_count": 9,
   "metadata": {},
   "outputs": [
    {
     "name": "stdout",
     "output_type": "stream",
     "text": [
      " <document>\n",
      "  \n",
      "###\n",
      "  \n",
      "다음 내용을 중국어로 번역해줘.\n",
      "  \n",
      "Translation : \n",
      "\n"
     ]
    }
   ],
   "source": [
    "prompt_postfix = \"\"\" <document>\n",
    "  \\n###\n",
    "  \\n다음 내용을 중국어로 번역해줘.\n",
    "  \\nTranslation : \n",
    "\"\"\"\n",
    "print(prompt_postfix)"
   ]
  },
  {
   "cell_type": "code",
   "execution_count": 10,
   "metadata": {},
   "outputs": [
    {
     "name": "stdout",
     "output_type": "stream",
     "text": [
      "\n",
      "强烈的阳光下，柏油路面被热烘烘地熔化，蚊虫在空中飞舞。在炎热的天气中，跳舞的人们喝着清凉的水消抚着疲惫的喉咙。印度马哈拉施特拉被强烈的阳光照射，这种早期的高温现象像夏天一样强烈。在数十万人参加的户外活动中，竟有十六人死于高温中暑。过去的一周，印度的气温高达44.6摄氏度，中国也超过了35摄氏度，创下4月份的最高气温纪录。泰国的气温高达45.4摄氏度，创下了春季气温超过45摄氏度的历史记录。最近，孟加拉湾和西太平洋附近出现了一个大海洋高压，从南方吹来热而潮湿的空气。从4月开始，亚洲地区会出现来自北方清凉空气和来自南方热空气的交叉。在这个过程中，温度突然升高的情况是有的，但最近的高温现象异常强烈，这是受到全球变暖的影响，时期更早，强度也更强。韩国国防部的高温现象是在夏天来临之前，从4月开始偶尔出现的现象。但最近的异常高温现象表明，全球变暖的影响使得时期更早，强度也更强。韩国首尔的气温也创下了34年来4月中旬的最高气温，而江原道地区也出现了超过30摄氏度的初夏酷暑。从今天开始，东亚地区的气温将逐渐回复正常，但东南亚和西亚地区的高温现象将持续一段\n"
     ]
    }
   ],
   "source": [
    "max_tokens = 1000\n",
    "translation = request_api(text, prompt_postfix, max_tokens)\n",
    "print(translation)"
   ]
  },
  {
   "attachments": {},
   "cell_type": "markdown",
   "metadata": {},
   "source": [
    "#### Tag Line 생성"
   ]
  },
  {
   "cell_type": "code",
   "execution_count": 22,
   "metadata": {},
   "outputs": [
    {
     "name": "stdout",
     "output_type": "stream",
     "text": [
      " <document>\n",
      "  \n",
      "###\n",
      "  \n",
      "요약문을 바탕으로 2~3개의 Tag Line을 생성해줘.\n",
      "\n"
     ]
    }
   ],
   "source": [
    "# Prompt postfix\n",
    "prompt_postfix = \"\"\" <document>\n",
    "  \\n###\n",
    "  \\n요약문을 바탕으로 2~3개의 Tag Line을 생성해줘.\n",
    "\"\"\" \n",
    "print(prompt_postfix)"
   ]
  },
  {
   "cell_type": "code",
   "execution_count": 23,
   "metadata": {},
   "outputs": [
    {
     "name": "stdout",
     "output_type": "stream",
     "text": [
      "\n",
      "1. 열사병이 발생하는 역대 최고 기온, 동아시아 지역의 열화로 인한 고통!\n",
      "2. 온난화의 영향으로 더욱 심각해지는 열화 고통!\n",
      "3. 동아시아 지역의 열화 고통, 온난화의 영향으로 더욱 심각해지는 역대 최고 기온!\n"
     ]
    }
   ],
   "source": [
    "max_tokens = 1000\n",
    "tag_lines = request_api(summary, prompt_postfix, max_tokens)\n",
    "print(tag_lines)"
   ]
  },
  {
   "attachments": {},
   "cell_type": "markdown",
   "metadata": {},
   "source": [
    "#### Keyword 생성"
   ]
  },
  {
   "cell_type": "code",
   "execution_count": 24,
   "metadata": {},
   "outputs": [
    {
     "name": "stdout",
     "output_type": "stream",
     "text": [
      " <document>\n",
      "  \n",
      "###\n",
      "  \n",
      "요약문을 바탕으로 5개의 키워드를 생성해줘.\n",
      "\n"
     ]
    }
   ],
   "source": [
    "# Prompt postfix\n",
    "prompt_postfix = \"\"\" <document>\n",
    "  \\n###\n",
    "  \\n요약문을 바탕으로 5개의 키워드를 생성해줘.\n",
    "\"\"\"\n",
    "print(prompt_postfix)"
   ]
  },
  {
   "cell_type": "code",
   "execution_count": 25,
   "metadata": {},
   "outputs": [
    {
     "name": "stdout",
     "output_type": "stream",
     "text": [
      "\n",
      "1. 열사병\n",
      "2. 온난화\n",
      "3. 역대 최고 기온\n",
      "4. 동아시아\n",
      "5. 강도 세짐\n"
     ]
    }
   ],
   "source": [
    "max_tokens = 1000\n",
    "seo_keywords = request_api(summary, prompt_postfix, max_tokens)\n",
    "print(seo_keywords)"
   ]
  }
 ],
 "metadata": {
  "kernelspec": {
   "display_name": "base",
   "language": "python",
   "name": "python3"
  },
  "language_info": {
   "codemirror_mode": {
    "name": "ipython",
    "version": 3
   },
   "file_extension": ".py",
   "mimetype": "text/x-python",
   "name": "python",
   "nbconvert_exporter": "python",
   "pygments_lexer": "ipython3",
   "version": "3.8.8"
  },
  "orig_nbformat": 4
 },
 "nbformat": 4,
 "nbformat_minor": 2
}
