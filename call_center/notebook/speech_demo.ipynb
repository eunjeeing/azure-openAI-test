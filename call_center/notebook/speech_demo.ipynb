{
 "cells": [
  {
   "attachments": {},
   "cell_type": "markdown",
   "metadata": {},
   "source": [
    "### Azure Speech를 사용하여 Speech-To-Text"
   ]
  },
  {
   "cell_type": "code",
   "execution_count": 1,
   "metadata": {},
   "outputs": [
    {
     "name": "stdout",
     "output_type": "stream",
     "text": [
      "SESSION STARTED: SessionEventArgs(session_id=cbd14d3ebb924051a7fa9dce365212e9)\n",
      "RECOGNIZED: 강렬한 햇살에 아스팔트가 뜨겁게 달궈지며 아지랑이가 피어오릅니다.\n",
      "RECOGNIZED: 무더위에 연신 물을 마시며 타는 목을 추겨봅니다.\n",
      "RECOGNIZED: 인도 마하라슈트라를 강타한 때이른 이상고온 현상은 한여름만큼 강력했습니다.\n",
      "RECOGNIZED: 수십만 명이 참여한 야외행사에서는 무려 열세명이 열사병으로 숨졌습니다.\n",
      "RECOGNIZED: 지난 오 일간 인도에서는 기온이 44.6 도까지 치솟았고, 중국도 35도를 넘어서면서 역대 4월 최고기온을 갈아치웠습니다.\n",
      "RECOGNIZED: 태국에서는 기온이 45.4 도까지 치솟으며 사상 첫 45도를 넘는 봄철 기온으로 기록됐습니다.\n",
      "RECOGNIZED: 최근 벵골만과 서태평양 부근에는 키 큰 해양성 고기압이 자리 잡게 되면서 남쪽으로부터 뜨겁고 습한 공기가 다량 북쪽으로 유입된 현상이 있었습니다. 사 월부터 아시아 지역은 북쪽 선선한 공기와 남쪽 뜨거운 공기가 교차하게 됩니다.\n",
      "RECOGNIZED: 이 과정에서 갑자기 기온이 오르는 일은 있지만 최근 이상기온은 유례없이 강력합니다.\n",
      "RECOGNIZED: 국방부의 고온현상은 여름이 오기 전 사월부터 가끔 나타나는 현상입니다. 하지만 최근의 이상 고온 현상은 온난화의 영향으로 시기가 더 빨라지고 강도도 훨씬 세지는 경향을 보이고 있습니다. 우리나라에도 서울 기온이 34년 만에 4월 중순 최고 기온을 기록했고, 경북 지역은 30도를 넘는 초여름 더위가 나타났습니다. 오늘부터 동아시아 지역은 기온이 제자리를 되찾겠지만 동남아시아와 서아시아 지역의 고온 영상은?\n",
      "RECOGNIZED: 당분간 계속될 전망입니다. Ytn 김민경입니다.\n",
      "SESSION STOPPED SessionEventArgs(session_id=cbd14d3ebb924051a7fa9dce365212e9)\n",
      "CLOSING on SessionEventArgs(session_id=cbd14d3ebb924051a7fa9dce365212e9)\n"
     ]
    }
   ],
   "source": [
    "import azure.cognitiveservices.speech as speechsdk\n",
    "import time\n",
    "import os\n",
    "\n",
    "text_list = []\n",
    "\n",
    "# 파일에서 음성 인식\n",
    "def from_file(filename):\n",
    "    speech_config = speechsdk.SpeechConfig(subscription=os.getenv(\"SPEECH_API_KEY\"), region=\"koreacentral\", speech_recognition_language=\"ko-KR\")\n",
    "\n",
    "    audio_config = speechsdk.AudioConfig(filename=filename)\n",
    "    speech_recognizer = speechsdk.SpeechRecognizer(speech_config=speech_config, audio_config=audio_config)\n",
    "\n",
    "    # 음성 인식 상태\n",
    "    done = False\n",
    "    \n",
    "    def stop_cb(evt):\n",
    "        print('CLOSING on {}'.format(evt))\n",
    "        speech_recognizer.stop_continuous_recognition()\n",
    "        nonlocal done\n",
    "        done = True\n",
    "\n",
    "    def recognized(evt: speechsdk.SpeechRecognitionEventArgs):\n",
    "        text_list.append(evt.result.text)\n",
    "        print('RECOGNIZED: {}'.format(evt.result.text))\n",
    "\n",
    "    # 최종 인식 결과가 포함된 이벤트에 대한 신호 \n",
    "    speech_recognizer.recognized.connect(recognized)\n",
    "    # 인식 세션의 시작을 나타내는 이벤트에 대한 신호 \n",
    "    speech_recognizer.session_started.connect(lambda evt: print('SESSION STARTED: {}'.format(evt)))\n",
    "    # 인식 세션의 끝을 나타내는 이벤트에 대한 신호 \n",
    "    speech_recognizer.session_stopped.connect(lambda evt: print('SESSION STOPPED {}'.format(evt)))\n",
    "\n",
    "    speech_recognizer.session_stopped.connect(stop_cb)\n",
    "    \n",
    "    # 연속 인식 작업 시작 \n",
    "    speech_recognizer.start_continuous_recognition()\n",
    "\n",
    "    while not done:\n",
    "        time.sleep(.5)\n",
    "\n",
    "from_file(\"../data/news.wav\")"
   ]
  },
  {
   "cell_type": "code",
   "execution_count": 3,
   "metadata": {},
   "outputs": [
    {
     "name": "stdout",
     "output_type": "stream",
     "text": [
      "강렬한 햇살에 아스팔트가 뜨겁게 달궈지며 아지랑이가 피어오릅니다.\n",
      "무더위에 연신 물을 마시며 타는 목을 추겨봅니다.\n",
      "인도 마하라슈트라를 강타한 때이른 이상고온 현상은 한여름만큼 강력했습니다.\n",
      "수십만 명이 참여한 야외행사에서는 무려 열세명이 열사병으로 숨졌습니다.\n",
      "지난 오 일간 인도에서는 기온이 44.6 도까지 치솟았고, 중국도 35도를 넘어서면서 역대 4월 최고기온을 갈아치웠습니다.\n",
      "태국에서는 기온이 45.4 도까지 치솟으며 사상 첫 45도를 넘는 봄철 기온으로 기록됐습니다.\n",
      "최근 벵골만과 서태평양 부근에는 키 큰 해양성 고기압이 자리 잡게 되면서 남쪽으로부터 뜨겁고 습한 공기가 다량 북쪽으로 유입된 현상이 있었습니다. 사 월부터 아시아 지역은 북쪽 선선한 공기와 남쪽 뜨거운 공기가 교차하게 됩니다.\n",
      "이 과정에서 갑자기 기온이 오르는 일은 있지만 최근 이상기온은 유례없이 강력합니다.\n",
      "국방부의 고온현상은 여름이 오기 전 사월부터 가끔 나타나는 현상입니다. 하지만 최근의 이상 고온 현상은 온난화의 영향으로 시기가 더 빨라지고 강도도 훨씬 세지는 경향을 보이고 있습니다. 우리나라에도 서울 기온이 34년 만에 4월 중순 최고 기온을 기록했고, 경북 지역은 30도를 넘는 초여름 더위가 나타났습니다. 오늘부터 동아시아 지역은 기온이 제자리를 되찾겠지만 동남아시아와 서아시아 지역의 고온 영상은?\n",
      "당분간 계속될 전망입니다. Ytn 김민경입니다.\n"
     ]
    }
   ],
   "source": [
    "# 리스트를 문자열로 변환\n",
    "print(*text_list, sep='\\n')\n",
    "text = ' '.join(text_list)"
   ]
  },
  {
   "attachments": {},
   "cell_type": "markdown",
   "metadata": {},
   "source": [
    "### Set up Azure OpenAI"
   ]
  },
  {
   "cell_type": "code",
   "execution_count": 4,
   "metadata": {},
   "outputs": [],
   "source": [
    "import openai\n",
    "from dotenv import load_dotenv\n",
    "\n",
    "load_dotenv()\n",
    "\n",
    "openai.api_type = 'azure'\n",
    "openai.api_version = '2023-03-15-preview'\n",
    "openai.api_base = os.getenv(\"OPENAI_API_BASE\")\n",
    "openai.api_key = os.getenv(\"OPENAI_API_KEY\")"
   ]
  },
  {
   "attachments": {},
   "cell_type": "markdown",
   "metadata": {},
   "source": [
    "#### 모델 배포"
   ]
  },
  {
   "cell_type": "code",
   "execution_count": 5,
   "metadata": {},
   "outputs": [
    {
     "name": "stdout",
     "output_type": "stream",
     "text": [
      "Found a succeeded deployment of \"text-davinci-003\" that supports text completion with id: text-davinci-003.\n"
     ]
    }
   ],
   "source": [
    "desired_model = 'text-davinci-003'\n",
    "desired_capability = 'completion'\n",
    "\n",
    "# list models deployed\n",
    "deployment_id = None\n",
    "result = openai.Deployment.list()\n",
    "\n",
    "for deployment in result.data:\n",
    "    if deployment[\"status\"] != \"succeeded\":\n",
    "        continue\n",
    "    \n",
    "    model = openai.Model.retrieve(deployment[\"model\"])\n",
    "\n",
    "    if model[\"id\"] == desired_model and model['capabilities'][desired_capability]:\n",
    "        deployment_id = deployment[\"id\"]\n",
    "        \n",
    "# if not model deployed, deploy one\n",
    "if not deployment_id:\n",
    "    print('No deployment with status: succeeded found.')\n",
    "\n",
    "    # Now let's create the deployment\n",
    "    print(f'Creating a new deployment with model: {desired_model}')\n",
    "    result = openai.Deployment.create(model=desired_model, scale_settings={\"scale_type\":\"standard\"})\n",
    "    deployment_id = result[\"id\"]\n",
    "    print(f'Successfully created {desired_model} that supports text {desired_capability} with id: {deployment_id}.')\n",
    "else:\n",
    "    print(f'Found a succeeded deployment of \"{desired_model}\" that supports text {desired_capability} with id: {deployment_id}.')"
   ]
  },
  {
   "attachments": {},
   "cell_type": "markdown",
   "metadata": {},
   "source": [
    "### 프롬프트 구성"
   ]
  },
  {
   "cell_type": "code",
   "execution_count": 6,
   "metadata": {},
   "outputs": [],
   "source": [
    "def request_api(document, prompt_postfix, max_tokens):\n",
    "    prompt = prompt_postfix.replace('<document>',document)\n",
    "\n",
    "    response = openai.Completion.create(  \n",
    "    deployment_id=deployment_id, \n",
    "    prompt=prompt,\n",
    "    temperature=0,\n",
    "    max_tokens=max_tokens)\n",
    "\n",
    "    return response['choices'][0]['text']"
   ]
  },
  {
   "attachments": {},
   "cell_type": "markdown",
   "metadata": {},
   "source": [
    "#### 뉴스 내용 요약"
   ]
  },
  {
   "cell_type": "code",
   "execution_count": 7,
   "metadata": {},
   "outputs": [
    {
     "name": "stdout",
     "output_type": "stream",
     "text": [
      " <document>\n",
      "  \n",
      "###\n",
      "  \n",
      "다음 내용을 요약해줘.\n",
      "  \n",
      "Summary : \n",
      "\n",
      "인도 마하라슈트라를 강타한 이상고온 현상으로 열사병이 발생하였고, 중국과 태국에서도 기온이 역대 최고를 기록하였습니다. 사월부터 북쪽 선선한 공기와 남쪽 뜨거운 공기가 교차하면서 이상고온 현상이 발생하고 있으며, 온난화의 영향으로 시기가 더 빨라지고 강도도 세지는 경향을 보이고 있습니다.\n"
     ]
    }
   ],
   "source": [
    "prompt_postfix = \"\"\" <document>\n",
    "  \\n###\n",
    "  \\n다음 내용을 요약해줘.\n",
    "  \\nSummary : \n",
    "\"\"\"\n",
    "print(prompt_postfix)\n",
    "\n",
    "max_tokens = 2000 \n",
    "summary = request_api(text, prompt_postfix, max_tokens)\n",
    "\n",
    "print(summary)"
   ]
  },
  {
   "attachments": {},
   "cell_type": "markdown",
   "metadata": {},
   "source": [
    "#### 중국어로 번역"
   ]
  },
  {
   "cell_type": "code",
   "execution_count": 7,
   "metadata": {},
   "outputs": [
    {
     "name": "stdout",
     "output_type": "stream",
     "text": [
      " <document>\n",
      "  \n",
      "###\n",
      "  \n",
      "요약문을 중국어로 번역해줘.\n",
      "  \n",
      "Translation : \n",
      "\n",
      "\n",
      "从四月开始，北部温暖的空气和南部热空气交叉，导致异常高温现象的发生，印度马哈拉施特拉受到异常高温的影响，中国和泰国也创下了历史最高气温记录。由于全球变暖的影响，异常高温现象的发生时间越来越快，强度也越来越强。\n"
     ]
    }
   ],
   "source": [
    "prompt_postfix = \"\"\" <document>\n",
    "  \\n###\n",
    "  \\n요약문을 중국어로 번역해줘.\n",
    "  \\nTranslation : \n",
    "\"\"\"\n",
    "print(prompt_postfix)\n",
    "\n",
    "max_tokens = 1000\n",
    "translation = request_api(summary, prompt_postfix, max_tokens)\n",
    "print(translation)"
   ]
  },
  {
   "attachments": {},
   "cell_type": "markdown",
   "metadata": {},
   "source": [
    "#### 기사 제목 추천 "
   ]
  },
  {
   "cell_type": "code",
   "execution_count": 8,
   "metadata": {},
   "outputs": [
    {
     "name": "stdout",
     "output_type": "stream",
     "text": [
      " <document>\n",
      "  \n",
      "###\n",
      "  \n",
      "요약문을 바탕으로 기사 제목을 추천해줘.\n",
      "\n",
      "\n",
      "\"인도 마하라슈트라 이상고온 현상, 중국과 태국에서도 역대 최고 기온 기록\"\n"
     ]
    }
   ],
   "source": [
    "prompt_postfix = \"\"\" <document>\n",
    "  \\n###\n",
    "  \\n요약문을 바탕으로 기사 제목을 추천해줘.\n",
    "\"\"\" \n",
    "print(prompt_postfix)\n",
    "\n",
    "max_tokens = 1000\n",
    "title = request_api(summary, prompt_postfix, max_tokens)\n",
    "print(title)"
   ]
  },
  {
   "attachments": {},
   "cell_type": "markdown",
   "metadata": {},
   "source": [
    "#### Keyword 생성"
   ]
  },
  {
   "cell_type": "code",
   "execution_count": 10,
   "metadata": {},
   "outputs": [
    {
     "name": "stdout",
     "output_type": "stream",
     "text": [
      " <document>\n",
      "  \n",
      "###\n",
      "  \n",
      "요약문을 바탕으로 5개의 키워드를 생성해줘.\n",
      "\n",
      "\n",
      "1. 인도 마하라슈트라\n",
      "2. 열사병\n",
      "3. 역대 최고 기온\n",
      "4. 온난화\n",
      "5. 이상고온 현상\n"
     ]
    }
   ],
   "source": [
    "prompt_postfix = \"\"\" <document>\n",
    "  \\n###\n",
    "  \\n요약문을 바탕으로 5개의 키워드를 생성해줘.\n",
    "\"\"\"\n",
    "print(prompt_postfix)\n",
    "\n",
    "max_tokens = 1000\n",
    "keywords = request_api(summary, prompt_postfix, max_tokens)\n",
    "print(keywords)"
   ]
  }
 ],
 "metadata": {
  "kernelspec": {
   "display_name": "base",
   "language": "python",
   "name": "python3"
  },
  "language_info": {
   "codemirror_mode": {
    "name": "ipython",
    "version": 3
   },
   "file_extension": ".py",
   "mimetype": "text/x-python",
   "name": "python",
   "nbconvert_exporter": "python",
   "pygments_lexer": "ipython3",
   "version": "3.8.8"
  },
  "orig_nbformat": 4
 },
 "nbformat": 4,
 "nbformat_minor": 2
}
