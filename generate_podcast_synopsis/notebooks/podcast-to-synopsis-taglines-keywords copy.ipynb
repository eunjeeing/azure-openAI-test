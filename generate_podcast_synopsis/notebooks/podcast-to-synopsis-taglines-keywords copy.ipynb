{
 "cells": [
  {
   "attachments": {},
   "cell_type": "markdown",
   "metadata": {},
   "source": [
    "# Generate Podcast Synopsis"
   ]
  },
  {
   "attachments": {},
   "cell_type": "markdown",
   "metadata": {},
   "source": [
    "## Speech To Text"
   ]
  },
  {
   "cell_type": "code",
   "execution_count": 5,
   "metadata": {},
   "outputs": [
    {
     "name": "stdout",
     "output_type": "stream",
     "text": [
      "SESSION STARTED: SessionEventArgs(session_id=13a649feb5084c0e97f8451073e23d09)\n",
      "RECOGNIZED: So general question here, I mean seeing bank runs does that term, I mean like Yikes, should we be freaking out?\n",
      "RECOGNIZED: Problem. You know you put me in a difficult situation, right? Because.\n",
      "RECOGNIZED: There's a feedback loop here, right? If everyone else is freaking out, you should freak out.\n",
      "RECOGNIZED: But it would be much better if everyone didn't freak out.\n",
      "RECOGNIZED: But CFTC U.S. financial commentator Rob Armstrong, and he's been thinking about panic a lot recently. That's because he, like a lot of financial journalists, has been watching a story over the last few days where panic has played a central role.\n",
      "RECOGNIZED: And that story I'm talking about is the collapse of Silicon Valley Bank.\n",
      "RECOGNIZED: And as this news broke last week.\n",
      "RECOGNIZED: The headlines have been dire. Tech lender Silicon Valley Bank collapsed on Friday, the biggest American bank to fail since the 2008 financial crisis. California regulators shut down Silicon Valley Bank. US authorities have seized control of Silicon Valley Bank and it is serious. The federal government had to step in to ensure SVB customers, many of them tech startups, would still get their money back. Another bank had to be taken over by regulators. In the fallout, more bank stocks.\n",
      "RECOGNIZED: Tumbled.\n",
      "RECOGNIZED: And there have been worries that maybe our banking system isn't as secure as people thought.\n",
      "RECOGNIZED: I mean, we all remember how quickly the 2008 financial crisis unfolded, right?\n",
      "RECOGNIZED: Rob does the biggest similarity for me is.\n",
      "RECOGNIZED: The sudden realization that you had a problem in the financial system that you just hadn't bothered thinking about before.\n",
      "RECOGNIZED: And then all of a sudden you're like, whoa, there's stuff under the covers that I didn't know was there. It just catches up with you so quickly. So the suddenness of it is like 2008 where you think, where was that? Why didn't I know about this before?\n",
      "RECOGNIZED: But Rob says what's happening here isn't the 2008 financial crisis.\n",
      "RECOGNIZED: It's different.\n",
      "RECOGNIZED: And today he'll make the case as to why everything should be fine so long as we don't panic.\n",
      "RECOGNIZED: I'm Michella Tandara from the Financial Times. Today on Behind the Money, we're going to be talking to the FT's U.S. financial commentator Rob Armstrong. He's going to help us make sense of what's happened to Silicon Valley Bank and what this means for the rest of the financial system.\n",
      "RECOGNIZED: Hi, Rob. Welcome to the show. Nice to be here.\n",
      "RECOGNIZED: O Rob Last week Silicon Valley Bank collapsed.\n",
      "CANCELED SpeechRecognitionCanceledEventArgs(session_id=fb718d432d5f4e0daf1e93a3784ffe1e, result=SpeechRecognitionResult(result_id=853c187fe41c4d8bb9ee15f030a3e7f3, text=\"\", reason=ResultReason.Canceled))\n",
      "CLOSING on SpeechRecognitionCanceledEventArgs(session_id=fb718d432d5f4e0daf1e93a3784ffe1e, result=SpeechRecognitionResult(result_id=853c187fe41c4d8bb9ee15f030a3e7f3, text=\"\", reason=ResultReason.Canceled))\n",
      "RECOGNIZED: It was the country's 16th biggest bank, and this was the biggest bank failure since the 2008 financial crisis. What set this off?\n",
      "RECOGNIZED: Two things.\n",
      "SESSION STOPPED SessionEventArgs(session_id=fb718d432d5f4e0daf1e93a3784ffe1e)\n",
      "CLOSING on SessionEventArgs(session_id=fb718d432d5f4e0daf1e93a3784ffe1e)\n",
      "RECOGNIZED: Bad decisions at the bank and a very rapid increase in interest rates. Those two factors combined in a kind of toxic mix. OK, got it. So just as a refresher, let's remind listeners how a bank operates. Banks take money in. Those are the deposits. Then in order for the bank to make money, it then lends out those deposits and earns money on the loan. Payments for those banks are profitable when they take in money at a lower price than they're lending it out.\n",
      "RECOGNIZED: The interest rate story, we sort of all know. Inflation rises, the Fed responds by increasing rates, the market responds by increasing rates.\n",
      "RECOGNIZED: That happens very.\n",
      "RECOGNIZED: Very quickly. In historical terms, how did that affect SBA? Well, they were a bit of an outlier among banks in two senses. How so? Two weird features of Silicon Valley Bank's balance sheet.\n",
      "RECOGNIZED: One on the get money side. On the deposit side, they were almost entirely funded by business depositors.\n",
      "RECOGNIZED: And the reason this is very important is that you and I.\n",
      "RECOGNIZED: We don't care that much about how much our deposit at our local bank or Chase or Bank of America pays us. And if interest rates go up, we don't stamp our foot and say, I want more interest on my deposit. Businesses do. So businesses demand that when interest rates go up, they get more interest on their deposits and therefore its cost of funding, its cost of getting money was rising fast. OK, yeah. So that's one side.\n",
      "RECOGNIZED: What about the lending side of the balance sheet? What happened to Silicon Valley Bank that's so extraordinary is during the kind of post pandemic?\n",
      "RECOGNIZED: Tech boom. All of these small companies that are Silicon Valley banks, core customers got huge amounts of money in and they deposited it at Silicon Valley Bank. So their deposits, I think quadrupled in a couple of years or at least tripled in a couple of years. So they had all this money, so much money, in fact, they couldn't even loan it out as fast as it was coming in. So what they did was buy Treasury bonds. Treasury bonds are wonderful things. They don't default, they're full.\n",
      "RECOGNIZED: Anything credit securities of the US government, or they are at least backed by the US government In the case of mortgage bonds, this is great stuff. The problem with them is once you buy them.\n",
      "RECOGNIZED: The interest on those is fixed. So clever listeners will see the problem that's happening. On the getting money side of the balance sheet, the price of the money is going up. On the giving money side of the balance sheet, the assets, the price is not going up. So Silicon Valley is basically watching its profits disappear. Yeah. So last Wednesday, SB makes this announcement saying that they have to sell some of those bonds that they bought and since the value of those.\n",
      "RECOGNIZED: Have fallen so much they were going to need to raise equity from investors to fill that hole. You know, banking is immensely tricky.\n",
      "RECOGNIZED: Having short term deposits.\n",
      "RECOGNIZED: Fund.\n",
      "RECOGNIZED: Long term loans, or what they call maturity transformation in the jargon is is very powerful magic and it it is incredibly constructive for economies when it's working well. But it has this dark side to it and it will always have this dark side to it. And it really is like black magic in a way. You have to treat it very, very delicately and carefully or it will turn against you in a flash.\n",
      "RECOGNIZED: And as we saw with SVB, that leads to people freaking out, depositors pulling their funds, and Yep, a run on the bank.\n",
      "RECOGNIZED: So broadly speaking, what's happening now, this week, we got an announcement Sunday night that the FDIC, the Federal Reserve and the Treasury together.\n",
      "RECOGNIZED: We're resolving the bank in such a way that the uninsured depositors, those business depositors who are worried about their money, would get 100 cents on the dollar, exactly how that has worked.\n",
      "RECOGNIZED: Is, at least as we're talking now, not totally clear because?\n",
      "RECOGNIZED: You know, how are they going to sell the assets? To whom for what, et cetera? But basically the government has said you're going to get your money back. And the government has also said crucially that any other bank that has trouble, it will provide liquidity to them in return for treasuries, mortgage-backed securities or definitely treasuries, maybe more mortgage-backed securities. Yeah, so that's what went wrong with SVB specifically, but is there a larger systemic reason for this?\n",
      "RECOGNIZED: Let me make the point very broadly.\n",
      "RECOGNIZED: In American banking, we have a 2 tier regulatory system, so.\n",
      "RECOGNIZED: The very biggest banks, the so-called systemically important banks, Bank of America, Citibank, JP Morgan, all the household name banks have to play by a more stringent set of rules in terms of how much capital they have to hold and how much liquidity they have to hold and how often they are examined and stress tested by regulators. Then smaller banks, banks the size of Silicon Valley Bank.\n",
      "RECOGNIZED: So back in 2018, the Dodd Frank Act was rolled back, which took away some of the regulations on banks that were put in place after the financial crisis.\n",
      "RECOGNIZED: Do you think that had a role in how things have since played out with SVB? I'm not sure.\n",
      "RECOGNIZED: How big a role?\n",
      "RECOGNIZED: That actually had to play in this collapse. I think you have to be very cautious because it's a political talking point. One of the most important things at a time like this is to have someone to blame, and preferably for that person to be in the opposite political party than you. And so even if the tweaking of second tier bank regulations under Trump was irrelevant, you're going to be hearing an awful lot about it in the next couple of weeks.\n",
      "RECOGNIZED: And I haven't done quite enough work to know how relevant that is.\n",
      "RECOGNIZED: Yeah, and why do we have this two tiered system? The rationale for the two tier system had two justifications. One, if a very big bank fails that is a real problem as we found out in 2008. You know one of these big boys starts to toddle and.\n",
      "RECOGNIZED: Anything can happen. Justification #2 is the very big banks have a kind of competitive advantage.\n",
      "RECOGNIZED: In scale, and for a smaller bank, meeting all those regulatory requirements that the big guys have to meet might be incredibly cumbersome, right? It's like you need like a huge staff of people to make sure that you're playing by all these rules, and for a small bank, that might be prohibitively expensive, this is the argument in any case.\n",
      "RECOGNIZED: So based on what's happened with SVB, should people be concerned about the solvency of other banks? So I think it would be much better.\n",
      "RECOGNIZED: If everybody could.\n",
      "RECOGNIZED: Recognize that the truth that the banking system as a whole is solvent.\n",
      "RECOGNIZED: Governments taking action to protect depositors.\n",
      "RECOGNIZED: Most.\n",
      "RECOGNIZED: Individual banks.\n",
      "RECOGNIZED: Are in good position.\n",
      "RECOGNIZED: And we can all take a deep breath. Let me be the four thousandth person to refer to It's a Wonderful Life and the famous scene of Jim Jimmy Stewart trying to explain, when all the people in town try to get their money out of the bank at once, that this is a really bad idea. And if we didn't do that, we would all be fine.\n",
      "RECOGNIZED: But panic is panic.\n",
      "RECOGNIZED: Yeah, and I should also say.\n",
      "RECOGNIZED: And that's something I can say categorically and that everybody should keep in mind.\n",
      "RECOGNIZED: If you have less than $250,000 in your bank account, it's covered by the US government. You have absolutely nothing to worry about.\n",
      "RECOGNIZED: So how is what's happening now?\n",
      "RECOGNIZED: Different from the financial crisis in 2008, OK.\n",
      "RECOGNIZED: Three points, first point.\n",
      "RECOGNIZED: Silicon Valley Bank, as best as I can figure, was an extreme example of poor balance sheet management.\n",
      "RECOGNIZED: It's hard to find other banks that had the dangerous characteristics that it had, to the degree it had them so.\n",
      "RECOGNIZED: First, read SVB looks like an outlier. Hopefully the serious problem ends there, or with a small handful of other banks that made similar mistake.\n",
      "RECOGNIZED: That's point number one. Point #2 is 2008 and my assessment was basically a credit event.\n",
      "RECOGNIZED: Meaning there was all these terrible loans out there on the back of housing with a tremendous, you know under capitalized.\n",
      "RECOGNIZED: Bad credit. It melted down. There's not a credit event per se.\n",
      "RECOGNIZED: Here.\n",
      "RECOGNIZED: The Third Point.\n",
      "RECOGNIZED: This time around, the big banks are really very safe. And one thing we learned to our horror last time around that even the world's largest financial institutions were inadequately capitalized. They are much better capitalized this time around. And so it really would boggle my imagination if we saw a major American bank.\n",
      "RECOGNIZED: Get in deep trouble with this stuff again. Bad enough panic.\n",
      "RECOGNIZED: The ball goes up, anything can happen. But man, that's hard for me to think that that's gonna happen, yeah.\n",
      "RECOGNIZED: What do you think this moment tells us about the state of U.S. banking regulation? Are things working as they should or not?\n",
      "RECOGNIZED: Well, we talked a little bit before about the two tier system, the heavier regulation for the very largest banks and the slightly less stringent regulation for the smaller banks. Clearly for both the top tier and the second tier banks, they all have more capital than they did before 2008 and that really helps in a situation like this.\n",
      "RECOGNIZED: It could be that regulators didn't think hard enough about the threat posed by the large amount of securities building U on bank balance sheets.\n",
      "RECOGNIZED: They might have to think harder about whether that's a risk they need to do something about. They also may have to think about whether having a 2 tier regulatory structure is a good idea and is that something that's been in effect since 2008? OK, it came together after the crisis, but what I would say is this.\n",
      "RECOGNIZED: I described this business of taking short term money in and putting long term money out as black magic. And it really is. No one should imagine a regulatory system in which bank failures are banished.\n",
      "RECOGNIZED: It just cannot happen. You want to minimize them. You want to minimize the damage from them. You want to make sure that that banks are sensibly capitalized and use sensible balance sheet management. But maturity transformation will always be fundamentally magical and there will always be scary moments. And the goal of regulation is not to bring the risk for everyone down to 0.\n",
      "RECOGNIZED: Do you think a lot of people would agree with you on that? There's definitely people who disagree with me.\n",
      "RECOGNIZED: But in a system where you have debt, there is risk and there is a whack, a mole character to risk where if you depress it in one place, it pops up in another. So I think there is a big difference between a well regulated and a poorly regulated banking system. I think anyone who tells you we can have a world.\n",
      "RECOGNIZED: Where we have leverage, where we have maturity transformation, where we have entrepreneurial activity and there's not going to be financial institutions are not going to fail, ever is.\n",
      "RECOGNIZED: Probably diluted, and maybe a system which was designed to prevent all failures wouldn't be dynamic enough to serve the economy properly.\n",
      "RECOGNIZED: Now, I'm really speculating, but there you have those are your speculations for Bravo Armstrong. What should entrepreneurs and other investors be asking of their banks in the future? I think that is one of the lessons of this if I am going to put my company's operating budget and its investment capital and everything else into a bank.\n",
      "RECOGNIZED: I probably want that to be a diversified bank and I I want to know a little bit about that bank's capital structure. And I know that's a lot to ask of business people that you know, you can't wave a wand and make business people an expert into bank finances. But does the bank have plenty of capital? Does it have a variety of deposit clients? Does it have a variety of different kinds of loans on the asset side of its balance sheet?\n",
      "RECOGNIZED: These are sensible questions to ask. You know the reason why banks?\n",
      "RECOGNIZED: Always have such impressive buildings. You know how the classic bank has kind of big stone columns out front is, they're trying to say to potential depositors we are solid.\n",
      "RECOGNIZED: And you know, you put money in here. It is like money in the bank.\n",
      "RECOGNIZED: So you have to be a tiny bit careful as the owner of a business about not being fooled by just the columns and not just depositing money in a bank. Because your rich friend did the same thing, yeah.\n",
      "RECOGNIZED: Broadly speaking, this is a very tough question to ask or answer right now, but where do you see this going?\n",
      "RECOGNIZED: I think certain, you know, banking regulation is going to get revisited.\n",
      "RECOGNIZED: You know last time we had a a credit quality crisis. This time we have a rate risk crisis and an asset liability matching crisis and I'm sure regulation will be revisited there and banks will revisit their policies there. We've already spoken about the two tier regulatory system. It will be interesting to see this is kind of a perennial question, whether this will inspire the banking system to consolidate a little bit. We have a lot of banks in America.\n",
      "RECOGNIZED: A lot of small to mid size banks and you know this showed some vulnerability of some of them and maybe they will get together and try to get bigger and that is always a vexed issue in many ways. Who's going to buy who?\n",
      "RECOGNIZED: Will regulators let it happen? So there's a whole interesting question about how the the structure of the industry changes in the months to come. Yeah, I should say years to come. Really.\n",
      "RECOGNIZED: I think too, you you crank up rates a lot. Somebody's going to have been swimming naked and they're going to find out and bad things happen to them and it freaks everybody out. So there will be a slowing effect on the economy because this unsettles people.\n",
      "RECOGNIZED: And I think.\n",
      "RECOGNIZED: It's going to be hard for banks.\n",
      "RECOGNIZED: You know, following the troubles of 15 years ago, this is another shot where investors are going to think twice before putting equity capital into banks again. So bank equity capital is going to be more expensive the, the valuation multiples of stocks are going to be lower. I think that probably has a bad effect on or a slowing effect on the economy too. Yeah.\n",
      "RECOGNIZED: Do you think what we're seeing, how this is being handled by the government so far, do you feel like it shows that we learned some important lessons during the 2008 financial crisis? Yes. I mean, the fact is the banks are better capitalized now, some of them.\n",
      "RECOGNIZED: SVB, being the extreme case, made mistakes about buying.\n",
      "RECOGNIZED: Bonds at a market high and now they have bonds on their on their balance sheet that are don't yield very much and if mark to market they they create a loss. That's a mistake. But because banks have more capital now because of the regulations that were put in place after 2008, that is a much less scary event, right? What it means for a bank to have more capital is that it can do more stupid things without blowing up.\n",
      "RECOGNIZED: And some banks have done some stupid things and hopefully not very many of them will blow up because they wouldn't have been forced to hold more capital. So that's better.\n",
      "RECOGNIZED: Yeah, yeah. No, it is. That sounds reassuring. I'm feeling reassuring. I'm trying to be reassuring. I mean, you know, I can't. You can't at the beginning of a moment like this, in the first days of a moment like this, you can't be sure.\n",
      "RECOGNIZED: How bad things are going to get?\n",
      "RECOGNIZED: But I think there are reasons to think right now.\n",
      "RECOGNIZED: That it won't be that bad.\n",
      "RECOGNIZED: Well, on that.\n",
      "RECOGNIZED: Thanks for being. Don't panic, everyone. That's the message. Thank you for having me, Michaela.\n",
      "RECOGNIZED: If you want to hear more from Rob on this topic, the FTC's hosting a webinar this Thursday, March 16th, all about the collapse of SVB.\n",
      "RECOGNIZED: Look for more details on this in the show notes.\n",
      "RECOGNIZED: Behind the Money is hosted by me, Michaela Chandara. Safia Ethmoid is our producer. Topher 4 has is our executive producer. Sound Design and Mixing by Sam Giovinco. Cheryl Brumley is the Global Head of Audio. Thanks for listening. See you next week.\n",
      "RECOGNIZED: I am Charlotte Casiraghi and in partnership with the House of Chanel, I present to you the Leron Control Podcast.\n",
      "RECOGNIZED: As part of the Horde Voltaire at Recombu, this podcast spotlights the birth of a female writer. You can listen to the various episodes and their authors on your preferred streaming platforms.\n",
      "CANCELED SpeechRecognitionCanceledEventArgs(session_id=13a649feb5084c0e97f8451073e23d09, result=SpeechRecognitionResult(result_id=4d4f2e8cbc3242fc97fdfa9a0217d737, text=\"\", reason=ResultReason.Canceled))\n",
      "CLOSING on SpeechRecognitionCanceledEventArgs(session_id=13a649feb5084c0e97f8451073e23d09, result=SpeechRecognitionResult(result_id=4d4f2e8cbc3242fc97fdfa9a0217d737, text=\"\", reason=ResultReason.Canceled))\n",
      "SESSION STOPPED SessionEventArgs(session_id=13a649feb5084c0e97f8451073e23d09)\n",
      "CLOSING on SessionEventArgs(session_id=13a649feb5084c0e97f8451073e23d09)\n"
     ]
    }
   ],
   "source": [
    "import azure.cognitiveservices.speech as speechsdk\n",
    "import time\n",
    "import os\n",
    "from dotenv import load_dotenv\n",
    "\n",
    "text = []\n",
    "\n",
    "# 파일에서 음성 인식 \n",
    "def from_file(filename):\n",
    "    speech_config = speechsdk.SpeechConfig(subscription=os.getenv(\"SPEECH_API_KEY\"), region=\"koreacentral\")\n",
    "    speech_config.speech_recognition_language=\"en-US\"\n",
    "\n",
    "    audio_config = speechsdk.AudioConfig(filename=filename)\n",
    "    speech_recognizer = speechsdk.SpeechRecognizer(speech_config=speech_config, audio_config=audio_config)\n",
    "\n",
    "    # 음성 인식 상태\n",
    "    done = False\n",
    "    \n",
    "    # evt가 수신되면 연속 인식을 중지하는 콜백 생성 \n",
    "    def stop_cb(evt):\n",
    "        print('CLOSING on {}'.format(evt))\n",
    "        # evt가 수신되면 인식을 중지하기 위해 stop_continuous_recognition 호출 \n",
    "        speech_recognizer.stop_continuous_recognition()\n",
    "        nonlocal done\n",
    "        done = True\n",
    "\n",
    "    def recognized(evt: speechsdk.SpeechRecognitionEventArgs):\n",
    "        text.append(evt.result.text)\n",
    "        print('RECOGNIZED: {}'.format(evt.result.text))\n",
    "\n",
    "    # 최종 인식 결과가 포함된 이벤트에 대한 신호 \n",
    "    speech_recognizer.recognized.connect(recognized)\n",
    "    # 인식 세션의 시작을 나타내는 이벤트에 대한 신호 \n",
    "    speech_recognizer.session_started.connect(lambda evt: print('SESSION STARTED: {}'.format(evt)))\n",
    "    # 인식 세션의 끝을 나타내는 이벤트에 대한 신호 \n",
    "    speech_recognizer.session_stopped.connect(lambda evt: print('SESSION STOPPED {}'.format(evt)))\n",
    "    # 취소된 인식 결과가 포함된 이벤트에 대한 신호 \n",
    "    speech_recognizer.canceled.connect(lambda evt: print('CANCELED {}'.format(evt)))\n",
    "\n",
    "    speech_recognizer.session_stopped.connect(stop_cb)\n",
    "    speech_recognizer.canceled.connect(stop_cb)\n",
    "\n",
    "    # 연속 인식 작업 시작 \n",
    "    result = speech_recognizer.start_continuous_recognition()\n",
    "\n",
    "    while not done:\n",
    "        time.sleep(.5)\n",
    "\n",
    "from_file(\"../data/Why SVB’s collapse is not a 2008 repeat.wav\")"
   ]
  },
  {
   "cell_type": "code",
   "execution_count": null,
   "metadata": {},
   "outputs": [],
   "source": [
    "# 리스트를 문자열로 변환\n",
    "text = ' '.join(text)\n",
    "print(text)"
   ]
  },
  {
   "attachments": {},
   "cell_type": "markdown",
   "metadata": {},
   "source": [
    "## Set Up Azure OpenAI"
   ]
  },
  {
   "cell_type": "code",
   "execution_count": 11,
   "metadata": {},
   "outputs": [],
   "source": [
    "import os\n",
    "import openai\n",
    "from dotenv import load_dotenv\n",
    "\n",
    "# Set up Azure OpenAI\n",
    "openai.api_type = \"azure\"\n",
    "openai.api_base = os.getenv(\"SOUTH_CENTRAL_US_OPENAI_API_BASE\")\n",
    "openai.api_version = \"2022-12-01\"\n",
    "openai.api_key = os.getenv(\"SOUTH_CENTRAL_US_OPENAI_API_KEY\")"
   ]
  },
  {
   "attachments": {},
   "cell_type": "markdown",
   "metadata": {},
   "source": [
    "## Deploy a Model"
   ]
  },
  {
   "cell_type": "code",
   "execution_count": 12,
   "metadata": {},
   "outputs": [
    {
     "name": "stdout",
     "output_type": "stream",
     "text": [
      "Found a succeeded deployment of \"text-davinci-003\" that supports text completion with id: text-davinci-003.\n"
     ]
    }
   ],
   "source": [
    "desired_model = 'text-davinci-003' # TEXT 생성에 적합한 모델 \n",
    "desired_capability = 'completion'\n",
    "\n",
    "# 배포 모델 목록 확인\n",
    "deployment_id = None\n",
    "result = openai.Deployment.list()\n",
    "\n",
    "for deployment in result.data:\n",
    "    if deployment[\"status\"] != \"succeeded\":\n",
    "        continue\n",
    "    \n",
    "    model = openai.Model.retrieve(deployment[\"model\"])\n",
    "\n",
    "    # desired_model과 desired_capability에 해당하는 모델이 있다면 deployment_id에 해당 배포의 ID를 할당\n",
    "    if model[\"id\"] == desired_model and model['capabilities'][desired_capability]:\n",
    "        deployment_id = deployment[\"id\"]\n",
    "        \n",
    "# deployment_id가 할당되지 않은 경우 새로운 배포를 진행 \n",
    "if not deployment_id:\n",
    "    print('No deployment with status: succeeded found.')\n",
    "\n",
    "    # 모델 배포\n",
    "    print(f'Creating a new deployment with model: {desired_model}')\n",
    "    result = openai.Deployment.create(model=desired_model, scale_settings={\"scale_type\":\"standard\"})\n",
    "    deployment_id = result[\"id\"]\n",
    "    print(f'Successfully created {desired_model} that supports text {desired_capability} with id: {deployment_id}.')\n",
    "else:\n",
    "    print(f'Found a succeeded deployment of \"{desired_model}\" that supports text {desired_capability} with id: {deployment_id}.')"
   ]
  },
  {
   "attachments": {},
   "cell_type": "markdown",
   "metadata": {},
   "source": [
    "## Text chunks generator"
   ]
  },
  {
   "cell_type": "code",
   "execution_count": 13,
   "metadata": {},
   "outputs": [],
   "source": [
    "# A generator that split a text into smaller chunks of size n, preferably ending at the end of a sentence\n",
    "def chunk_generator(text, n, tokenizer):\n",
    "    tokens = tokenizer.encode(text)\n",
    "    i = 0\n",
    "    while i < len(tokens):\n",
    "        # Find the nearest end of sentence within a range of 0.5 * n and 1.5 * n tokens\n",
    "        j = min(i + int(1.5 * n), len(tokens))\n",
    "        while j > i + int(0.5 * n):\n",
    "            # Decode the tokens and check for full stop or newline\n",
    "            chunk = tokenizer.decode(tokens[i:j])\n",
    "            if chunk.endswith(\".\") or chunk.endswith(\"\\n\"):\n",
    "                break\n",
    "            j -= 1\n",
    "        # If no end of sentence found, use n tokens as the chunk size\n",
    "        if j == i + int(0.5 * n):\n",
    "            j = min(i + n, len(tokens))\n",
    "        yield tokens[i:j]\n",
    "        i = j"
   ]
  },
  {
   "attachments": {},
   "cell_type": "markdown",
   "metadata": {},
   "source": [
    "## Request API"
   ]
  },
  {
   "cell_type": "code",
   "execution_count": 14,
   "metadata": {},
   "outputs": [],
   "source": [
    "def request_api(document, prompt_postfix, max_tokens):\n",
    "    prompt = prompt_postfix.replace('<document>',document)\n",
    "    #print(f'>>> prompt : {prompt}')\n",
    "\n",
    "    response = openai.Completion.create(  \n",
    "    deployment_id=deployment_id, \n",
    "    prompt=prompt,\n",
    "    temperature=0,\n",
    "    max_tokens=max_tokens,\n",
    "    top_p=1,\n",
    "    frequency_penalty=1,\n",
    "    presence_penalty=1,\n",
    "    stop='###')\n",
    "\n",
    "    return response['choices'][0]['text']"
   ]
  },
  {
   "attachments": {},
   "cell_type": "markdown",
   "metadata": {},
   "source": [
    "## Generate Synopsis"
   ]
  },
  {
   "cell_type": "code",
   "execution_count": 15,
   "metadata": {},
   "outputs": [
    {
     "name": "stdout",
     "output_type": "stream",
     "text": [
      " <document>\n",
      "  \n",
      "###\n",
      "  \n",
      "Summarise the transcript of a podcast above into a synopsis. \n",
      "  \n",
      "Synopsis : \n",
      "\n"
     ]
    }
   ],
   "source": [
    "# Prompt postfix\n",
    "prompt_postfix = \"\"\" <document>\n",
    "  \\n###\n",
    "  \\nSummarise the transcript of a podcast above into a synopsis. \n",
    "  \\nSynopsis : \n",
    "\"\"\"\n",
    "print(prompt_postfix)"
   ]
  },
  {
   "cell_type": "code",
   "execution_count": 16,
   "metadata": {},
   "outputs": [
    {
     "name": "stdout",
     "output_type": "stream",
     "text": [
      "Rob Armstrong, a U.S. financial commentator for the Financial Times, discusses the recent collapse of Silicon Valley Bank and what it means for the rest of the banking system. He explains that two factors led to its failure: bad decisions at the bank and a rapid increase in interest rates which caused their cost of funding to rise faster than their profits from lending out deposits. The FDIC, Federal Reserve and Treasury have stepped in to ensure depositors get 100 cents on the dollar back but Rob cautions against panic as most banks are still solvent. He also explains why there is a two-tier regulatory system for banks - one set of rules for large banks and another set for smaller ones - and how this may have played into SVB's collapse. Finally, he advises entrepreneurs and investors to ask questions about their bank's capital structure before investing money with them. Rob, an expert on banking regulation, discusses the recent collapse of SVB and how it may affect the banking industry. He believes that banks are better capitalized now than they were during the 2008 financial crisis due to regulations put in place afterwards. Rob also suggests that investors may be more cautious when putting equity capital into banks following this event, which could have a slowing effect on the economy. The FTC is hosting a webinar about SVB's collapse this Thursday for those who want to learn more.\n"
     ]
    }
   ],
   "source": [
    "import tiktoken\n",
    "\n",
    "synopsis_chunck = []\n",
    "n = 2000 # max tokens for chuncking\n",
    "max_tokens = 1000 # max tokens for response\n",
    "\n",
    "tokenizer = tiktoken.get_encoding('p50k_base')\n",
    "\n",
    "# 청크 생성 \n",
    "chunks = chunk_generator(text, n, tokenizer)\n",
    "\n",
    "# 각각의 청크를 디코딩\n",
    "text_chunks = [tokenizer.decode(chunk) for chunk in chunks]\n",
    "\n",
    "# 청크마다 요약 문장을 생성 \n",
    "for chunk in text_chunks:\n",
    "    synopsis_chunck.append(request_api(chunk, prompt_postfix, max_tokens))\n",
    "    #print(chunk)\n",
    "    #print('>>> synopsis: \\n' + synopsis_chunck[-1])\n",
    "\n",
    "# Synopsis\n",
    "synopsis = ' '.join(synopsis_chunck)\n",
    "print(synopsis)"
   ]
  },
  {
   "attachments": {},
   "cell_type": "markdown",
   "metadata": {},
   "source": [
    "## Translate Synopsis"
   ]
  },
  {
   "cell_type": "code",
   "execution_count": 17,
   "metadata": {},
   "outputs": [
    {
     "name": "stdout",
     "output_type": "stream",
     "text": [
      " <document>\n",
      "  \n",
      "###\n",
      "  \n",
      "Translate synopsis into Mandarin.  \n",
      "  \n",
      "Translation : \n",
      "\n"
     ]
    }
   ],
   "source": [
    "# Prompt postfix\n",
    "prompt_postfix = \"\"\" <document>\n",
    "  \\n###\n",
    "  \\nTranslate synopsis into Mandarin.  \n",
    "  \\nTranslation : \n",
    "\"\"\"\n",
    "print(prompt_postfix)"
   ]
  },
  {
   "cell_type": "code",
   "execution_count": 18,
   "metadata": {},
   "outputs": [
    {
     "name": "stdout",
     "output_type": "stream",
     "text": [
      "\n",
      "美国财务时报的金融评论员罗布·阿姆斯特朗（Rob Armstrong）就硅谷银行的最近崩溃以及它对其他银行体系意味着什么进行了讨论。他解释说，导致其失败的两个因素是银行内部的不当决定和利率急剧上升，使得其成本比出借存款所带来的利润快速上升。 FDIC、 联邦储备委员会和财政部已采取步骤，以保证存款人能够得到100% 的回报，但 Rob 告诫大家不要惊慌失措，因为大多数银行仍然流动性强。 他还解释了为何会针对大型银行和小型银行分别制定一套法律法��� - 这可能是 SVB 崩盘的原因之一。 最后，他建议企业家和投��者在将金​​\n"
     ]
    }
   ],
   "source": [
    "max_tokens = 1000\n",
    "translation = request_api(synopsis, prompt_postfix, max_tokens)\n",
    "print(translation)"
   ]
  },
  {
   "attachments": {},
   "cell_type": "markdown",
   "metadata": {},
   "source": [
    "美国金融评论家罗伯特·阿姆斯特朗（Robert Armstrong）在《金融时报》上就硅谷银行的崩溃进行了讨论，并且说明这不是2008年金融危机的复制。他解释说，导致SVB倒闭的原因有两方面：一是银行内部出现了不当决定; 二是利率急剧上升。此外，Rob 还概述了银行如何运作、SVB具体出现什么问题以及是否存在更大的体系性原因。此外，他还详细说明了为什么我们在监管方面存在双标准制度, 以及道德弗兰克法案(Dodd-Frank Act) 的退减对此情况会不会造成影响。最后,  Robert Armstrong 向听众保证, 只要人民不惊慌失措, 情况应当一切安好, 250k 美元之下的储户由美国政府承保.\n",
    "Robert Armstrong 金融专家提出了 SVB 最新崩盘及其对相关监管带来的影响。 他表明由于 2008 年危机之后所施加的法律法规使得如今的银行已然比 2008 年时更加强壮。 此外， 也告诫投者将存款存入需要留意看看能耐性情况。 最后 ， Robert Armstrong 预测随之考勒将使得 bank equity capital 更加昂���耗时曲緩效应将随之考勒使效能受到影响."
   ]
  },
  {
   "attachments": {},
   "cell_type": "markdown",
   "metadata": {},
   "source": [
    "## Generate Tag Lines"
   ]
  },
  {
   "cell_type": "code",
   "execution_count": 33,
   "metadata": {},
   "outputs": [
    {
     "name": "stdout",
     "output_type": "stream",
     "text": [
      " <document>\n",
      "  \n",
      "###\n",
      "  \n",
      "Generate 2 to 3 tag lines based on the podcast synopsis above. \n",
      "\n"
     ]
    }
   ],
   "source": [
    "# Prompt postfix\n",
    "prompt_postfix = \"\"\" <document>\n",
    "  \\n###\n",
    "  \\nGenerate 2 to 3 tag lines based on the podcast synopsis above. \n",
    "\"\"\" \n",
    "print(prompt_postfix)"
   ]
  },
  {
   "cell_type": "code",
   "execution_count": 34,
   "metadata": {},
   "outputs": [
    {
     "name": "stdout",
     "output_type": "stream",
     "text": [
      "\n",
      "1. Get the facts on Silicon Valley Bank's collapse and what it means for banking. \n",
      "2. Don't Panic: Expert Advice on Banking Regulation After SVB's Collapse. \n",
      "3. Invest Wisely: Ask Questions About Your Bank's Capital Structure Before Investing Money With Them.\n"
     ]
    }
   ],
   "source": [
    "max_tokens = 500\n",
    "tag_lines = request_api(synopsis, prompt_postfix, max_tokens)\n",
    "print(tag_lines)"
   ]
  },
  {
   "attachments": {},
   "cell_type": "markdown",
   "metadata": {},
   "source": [
    "## Generate Search Engine Optimised (SEO) Keywords"
   ]
  },
  {
   "cell_type": "code",
   "execution_count": 22,
   "metadata": {},
   "outputs": [
    {
     "name": "stdout",
     "output_type": "stream",
     "text": [
      " <document>\n",
      "  \n",
      "###\n",
      "  \n",
      "Generate 5 search engine optimised keywords based on text above.  \n",
      "\n"
     ]
    }
   ],
   "source": [
    "# Prompt postfix\n",
    "prompt_postfix = \"\"\" <document>\n",
    "  \\n###\n",
    "  \\nGenerate 5 search engine optimised keywords based on text above.  \n",
    "\"\"\"\n",
    "print(prompt_postfix)"
   ]
  },
  {
   "cell_type": "code",
   "execution_count": 24,
   "metadata": {},
   "outputs": [
    {
     "name": "stdout",
     "output_type": "stream",
     "text": [
      "1. Bank Runs\n",
      "2. Silicon Valley Bank Collapse\n",
      "3. Financial Crisis 2008\n",
      "4. US Banking Regulation \n",
      "5. FDIC Resolution 1. Rob Smith Banking Regulation\n",
      "2. Financial Crisis 2008\n",
      "3. Bank Equity Capital \n",
      "4. Charlotte Casiraghi Podcast \n",
      "5. House of Chanel Leron Control\n"
     ]
    }
   ],
   "source": [
    "keywords_chunck = []\n",
    "n = 2000 # max tokens for chuncking\n",
    "max_tokens = 100\n",
    "\n",
    "tokenizer = tiktoken.get_encoding('p50k_base')\n",
    "\n",
    "# Generate chunkcs    \n",
    "chunks = chunk_generator(text, n, tokenizer)\n",
    "\n",
    "# Decode chunk of text\n",
    "text_chunks = [tokenizer.decode(chunk) for chunk in chunks]\n",
    "\n",
    "# Request api\n",
    "for chunk in text_chunks:\n",
    "    keywords_chunck.append(request_api(chunk, prompt_postfix, max_tokens))\n",
    "\n",
    "# Keywords\n",
    "keywords = ' '.join(keywords_chunck)\n",
    "print(keywords)"
   ]
  },
  {
   "cell_type": "code",
   "execution_count": 25,
   "metadata": {},
   "outputs": [
    {
     "name": "stdout",
     "output_type": "stream",
     "text": [
      " <document>\n",
      "  \n",
      "###\n",
      "  \n",
      "Reduce keywords above to 5 search engine optimised keywords. \n",
      "\n"
     ]
    }
   ],
   "source": [
    "# Prompt postfix\n",
    "prompt_postfix = \"\"\" <document>\n",
    "  \\n###\n",
    "  \\nReduce keywords above to 5 search engine optimised keywords. \n",
    "\"\"\"\n",
    "print(prompt_postfix)"
   ]
  },
  {
   "cell_type": "code",
   "execution_count": 26,
   "metadata": {},
   "outputs": [
    {
     "name": "stdout",
     "output_type": "stream",
     "text": [
      "\n",
      "1. Bank Runs\n",
      "2. Financial Crisis 2008\n",
      "3. Banking Regulation \n",
      "4. FDIC Resolution \n",
      "5. Bank Equity Capital\n"
     ]
    }
   ],
   "source": [
    "max_tokens = 50\n",
    "seo_keywords = request_api(keywords, prompt_postfix, max_tokens)\n",
    "print(seo_keywords)"
   ]
  }
 ],
 "metadata": {
  "kernelspec": {
   "display_name": "azureml_py38",
   "language": "python",
   "name": "python3"
  },
  "language_info": {
   "codemirror_mode": {
    "name": "ipython",
    "version": 3
   },
   "file_extension": ".py",
   "mimetype": "text/x-python",
   "name": "python",
   "nbconvert_exporter": "python",
   "pygments_lexer": "ipython3",
   "version": "3.8.8"
  },
  "orig_nbformat": 4,
  "vscode": {
   "interpreter": {
    "hash": "6d65a8c07f5b6469e0fc613f182488c0dccce05038bbda39e5ac9075c0454d11"
   }
  }
 },
 "nbformat": 4,
 "nbformat_minor": 2
}
