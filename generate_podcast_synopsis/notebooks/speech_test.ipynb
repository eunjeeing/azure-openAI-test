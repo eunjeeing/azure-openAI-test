{
 "cells": [
  {
   "cell_type": "code",
   "execution_count": 25,
   "metadata": {},
   "outputs": [],
   "source": [
    "import time\n",
    "import azure.cognitiveservices.speech as speechsdk\n",
    "\n",
    "text = []\n",
    "\n",
    "def speech_recognize_continuous_from_file():\n",
    "    speech_config = speechsdk.SpeechConfig(subscription=\"268d8c1496a44cc0b7c044ec33edbcd5\", region=\"southcentralus\")\n",
    "    audio_config = speechsdk.audio.AudioConfig(filename=\"../data/sampledata_audiofiles_speechService.wav\")\n",
    "\n",
    "    speech_recognizer = speechsdk.SpeechRecognizer(\n",
    "        speech_config=speech_config, language=\"en-US\", audio_config=audio_config)\n",
    "\n",
    "    done = False\n",
    "\n",
    "    def stop_cb(evt: speechsdk.SessionEventArgs):\n",
    "        \"\"\"callback that signals to stop continuous recognition upon receiving an event `evt`\"\"\"\n",
    "        print('CLOSING on {}'.format(evt))\n",
    "        nonlocal done\n",
    "        done = True\n",
    "\n",
    "    def recognized(evt: speechsdk.SpeechRecognitionEventArgs):\n",
    "        text.append(evt.result.text)\n",
    "        print('RECOGNIZED: {}'.format(evt.result.text))\n",
    "    \n",
    "    speech_recognizer.recognized.connect(recognized)\n",
    "    speech_recognizer.session_started.connect(lambda evt: print('SESSION STARTED: {}'.format(evt)))\n",
    "    speech_recognizer.session_stopped.connect(lambda evt: print('SESSION STOPPED {}'.format(evt)))\n",
    "    speech_recognizer.canceled.connect(lambda evt: print('CANCELED {}'.format(evt)))\n",
    "    # stop continuous recognition on either session stopped or canceled events\n",
    "    speech_recognizer.session_stopped.connect(stop_cb)\n",
    "    speech_recognizer.canceled.connect(stop_cb)\n",
    "\n",
    "    # Start continuous speech recognition\n",
    "    speech_recognizer.start_continuous_recognition()\n",
    "    while not done:\n",
    "        time.sleep(.5)\n",
    "\n",
    "    speech_recognizer.stop_continuous_recognition()"
   ]
  },
  {
   "cell_type": "code",
   "execution_count": 26,
   "metadata": {},
   "outputs": [
    {
     "name": "stdout",
     "output_type": "stream",
     "text": [
      "SESSION STARTED: SessionEventArgs(session_id=deb5e4dae86f4c29a300b6e177a9b05e)\n",
      "RECOGNIZED: What is the Speech Services? The Speech Service is the unification of speech to text, text to speech and speech translation into a single Azure subscription. It is easy to speech enable your applications, tools and devices with the Speech SDK, Speech Devices SDK, and the Restful APIs.\n",
      "RECOGNIZED: These features made-up the Speech services. Use the links in this table to learn more about common use cases for each feature, or browse the API references.\n",
      "RECOGNIZED: Speak to text, transcribe or translate audio streams or local files to text in real time that your applications, tools, or devices can consume or display.\n",
      "RECOGNIZED: Use speech to text with language understanding to derive user intents from the transcribe speech and act on voice commands.\n",
      "CANCELED SpeechRecognitionCanceledEventArgs(session_id=deb5e4dae86f4c29a300b6e177a9b05e, result=SpeechRecognitionResult(result_id=eb481b999111402998c7e502ec51dde1, text=\"\", reason=ResultReason.Canceled))\n",
      "CLOSING on SpeechRecognitionCanceledEventArgs(session_id=deb5e4dae86f4c29a300b6e177a9b05e, result=SpeechRecognitionResult(result_id=eb481b999111402998c7e502ec51dde1, text=\"\", reason=ResultReason.Canceled))\n",
      "SESSION STOPPED SessionEventArgs(session_id=deb5e4dae86f4c29a300b6e177a9b05e)\n",
      "CLOSING on SessionEventArgs(session_id=deb5e4dae86f4c29a300b6e177a9b05e)\n"
     ]
    }
   ],
   "source": [
    "speech_recognize_continuous_from_file()"
   ]
  },
  {
   "cell_type": "code",
   "execution_count": 27,
   "metadata": {},
   "outputs": [
    {
     "name": "stdout",
     "output_type": "stream",
     "text": [
      "['What is the Speech Services? The Speech Service is the unification of speech to text, text to speech and speech translation into a single Azure subscription. It is easy to speech enable your applications, tools and devices with the Speech SDK, Speech Devices SDK, and the Restful APIs.', 'These features made-up the Speech services. Use the links in this table to learn more about common use cases for each feature, or browse the API references.', 'Speak to text, transcribe or translate audio streams or local files to text in real time that your applications, tools, or devices can consume or display.', 'Use speech to text with language understanding to derive user intents from the transcribe speech and act on voice commands.']\n"
     ]
    }
   ],
   "source": [
    "print(text)"
   ]
  },
  {
   "cell_type": "code",
   "execution_count": 28,
   "metadata": {},
   "outputs": [],
   "source": [
    "with open ('../data/text.txt', 'w') as f:\n",
    "    f.writelines(text)"
   ]
  }
 ],
 "metadata": {
  "kernelspec": {
   "display_name": "base",
   "language": "python",
   "name": "python3"
  },
  "language_info": {
   "codemirror_mode": {
    "name": "ipython",
    "version": 3
   },
   "file_extension": ".py",
   "mimetype": "text/x-python",
   "name": "python",
   "nbconvert_exporter": "python",
   "pygments_lexer": "ipython3",
   "version": "3.8.8"
  },
  "orig_nbformat": 4
 },
 "nbformat": 4,
 "nbformat_minor": 2
}
