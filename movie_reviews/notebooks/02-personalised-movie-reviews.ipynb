{
 "cells": [
  {
   "attachments": {},
   "cell_type": "markdown",
   "metadata": {},
   "source": [
    "# Personalised Movie Reviews"
   ]
  },
  {
   "cell_type": "code",
   "execution_count": 67,
   "metadata": {},
   "outputs": [
    {
     "name": "stdout",
     "output_type": "stream",
     "text": [
      "The autoreload extension is already loaded. To reload it, use:\n",
      "  %reload_ext autoreload\n"
     ]
    }
   ],
   "source": [
    "%load_ext autoreload\n",
    "%autoreload 2\n",
    "\n",
    "from IPython.core.interactiveshell import InteractiveShell\n",
    "InteractiveShell.ast_node_interactivity = \"all\""
   ]
  },
  {
   "attachments": {},
   "cell_type": "markdown",
   "metadata": {},
   "source": [
    "### Set up Azure OpenAI"
   ]
  },
  {
   "cell_type": "code",
   "execution_count": 68,
   "metadata": {},
   "outputs": [
    {
     "data": {
      "text/plain": [
       "True"
      ]
     },
     "execution_count": 68,
     "metadata": {},
     "output_type": "execute_result"
    }
   ],
   "source": [
    "import os\n",
    "import openai\n",
    "from dotenv import load_dotenv\n",
    "\n",
    "load_dotenv()\n",
    "\n",
    "openai.api_type = \"azure\"\n",
    "openai.api_version = \"2023-03-15-preview\"\n",
    "openai.api_base = os.getenv(\"OPENAI_API_BASE\")\n",
    "openai.api_key = os.getenv(\"OPENAI_API_KEY\")"
   ]
  },
  {
   "attachments": {},
   "cell_type": "markdown",
   "metadata": {},
   "source": [
    "### 모델 배포"
   ]
  },
  {
   "cell_type": "code",
   "execution_count": 69,
   "metadata": {},
   "outputs": [
    {
     "name": "stdout",
     "output_type": "stream",
     "text": [
      "Found a succeeded deployment of \"text-embedding-ada-002\" that supports text search with id: text-embedding-ada-002.\n"
     ]
    }
   ],
   "source": [
    "# id of desired_model\n",
    "query_model = \"text-embedding-ada-002\"\n",
    "\n",
    "# list models deployed\n",
    "deployment_id = None\n",
    "result = openai.Deployment.list()\n",
    "\n",
    "for deployment in result.data:\n",
    "    if deployment[\"status\"] != \"succeeded\":\n",
    "        continue\n",
    "    \n",
    "    model = openai.Model.retrieve(deployment[\"model\"])\n",
    "    if model[\"id\"] == query_model:\n",
    "        deployment_id = deployment[\"id\"]\n",
    "        \n",
    "# if not model deployed, deploy one\n",
    "if not deployment_id:\n",
    "    print('No deployment with status: succeeded found.')\n",
    "\n",
    "    # Now let's create the deployment\n",
    "    print(f'Creating a new deployment with model: {query_model}')\n",
    "    result = openai.Deployment.create(model=query_model, scale_settings={\"scale_type\":\"standard\"})\n",
    "    deployment_id = result[\"id\"]\n",
    "    print(f'Successfully created {query_model} with deployment_id {deployment_id}')\n",
    "else:\n",
    "    print(f'Found a succeeded deployment of \"{query_model}\" that supports text search with id: {deployment_id}.')"
   ]
  },
  {
   "attachments": {},
   "cell_type": "markdown",
   "metadata": {},
   "source": [
    "### 데이터 로드"
   ]
  },
  {
   "cell_type": "code",
   "execution_count": 78,
   "metadata": {},
   "outputs": [
    {
     "data": {
      "text/html": [
       "<div>\n",
       "<style scoped>\n",
       "    .dataframe tbody tr th:only-of-type {\n",
       "        vertical-align: middle;\n",
       "    }\n",
       "\n",
       "    .dataframe tbody tr th {\n",
       "        vertical-align: top;\n",
       "    }\n",
       "\n",
       "    .dataframe thead th {\n",
       "        text-align: right;\n",
       "    }\n",
       "</style>\n",
       "<table border=\"1\" class=\"dataframe\">\n",
       "  <thead>\n",
       "    <tr style=\"text-align: right;\">\n",
       "      <th></th>\n",
       "      <th>Movie</th>\n",
       "      <th>Publish</th>\n",
       "      <th>Review</th>\n",
       "      <th>Date</th>\n",
       "      <th>Score</th>\n",
       "      <th>Word_Count</th>\n",
       "      <th>embedding</th>\n",
       "    </tr>\n",
       "  </thead>\n",
       "  <tbody>\n",
       "    <tr>\n",
       "      <th>0</th>\n",
       "      <td>SOLO: A STAR WARS STORY</td>\n",
       "      <td>Stuff.co.nz</td>\n",
       "      <td>The formula is strong with this one.</td>\n",
       "      <td>2018-05-24</td>\n",
       "      <td>70.0</td>\n",
       "      <td>7</td>\n",
       "      <td>[0.01451321691274643, -0.014196277596056461, -...</td>\n",
       "    </tr>\n",
       "    <tr>\n",
       "      <th>1</th>\n",
       "      <td>BLACK PANTHER</td>\n",
       "      <td>Gone With The Twins</td>\n",
       "      <td>Just about the same as every other Marvel title.</td>\n",
       "      <td>2020-05-12</td>\n",
       "      <td>50.0</td>\n",
       "      <td>9</td>\n",
       "      <td>[-0.00993192009627819, -0.04493372514843941, -...</td>\n",
       "    </tr>\n",
       "    <tr>\n",
       "      <th>2</th>\n",
       "      <td>DUNKIRK</td>\n",
       "      <td>Screen Zealots</td>\n",
       "      <td>This is one heck of a stunning war picture.</td>\n",
       "      <td>2018-12-20</td>\n",
       "      <td>80.0</td>\n",
       "      <td>9</td>\n",
       "      <td>[-0.021182995289564133, -0.009731178171932697,...</td>\n",
       "    </tr>\n",
       "    <tr>\n",
       "      <th>3</th>\n",
       "      <td>KNIVES OUT</td>\n",
       "      <td>Student Edge</td>\n",
       "      <td>Don't fear: No spoilers here. All you need to ...</td>\n",
       "      <td>2019-11-26</td>\n",
       "      <td>80.0</td>\n",
       "      <td>17</td>\n",
       "      <td>[-0.001303257653489709, -0.016508987173438072,...</td>\n",
       "    </tr>\n",
       "    <tr>\n",
       "      <th>4</th>\n",
       "      <td>KNIVES OUT</td>\n",
       "      <td>Deep Focus Review</td>\n",
       "      <td>Sharp and funny, Knives Out exceeds expectatio...</td>\n",
       "      <td>2022-02-23</td>\n",
       "      <td>100.0</td>\n",
       "      <td>29</td>\n",
       "      <td>[0.006400220561772585, -0.02247047796845436, -...</td>\n",
       "    </tr>\n",
       "  </tbody>\n",
       "</table>\n",
       "</div>"
      ],
      "text/plain": [
       "                     Movie              Publish   \n",
       "0  SOLO: A STAR WARS STORY          Stuff.co.nz  \\\n",
       "1            BLACK PANTHER  Gone With The Twins   \n",
       "2                  DUNKIRK       Screen Zealots   \n",
       "3               KNIVES OUT         Student Edge   \n",
       "4               KNIVES OUT    Deep Focus Review   \n",
       "\n",
       "                                              Review        Date  Score   \n",
       "0               The formula is strong with this one.  2018-05-24   70.0  \\\n",
       "1   Just about the same as every other Marvel title.  2020-05-12   50.0   \n",
       "2        This is one heck of a stunning war picture.  2018-12-20   80.0   \n",
       "3  Don't fear: No spoilers here. All you need to ...  2019-11-26   80.0   \n",
       "4  Sharp and funny, Knives Out exceeds expectatio...  2022-02-23  100.0   \n",
       "\n",
       "   Word_Count                                          embedding  \n",
       "0           7  [0.01451321691274643, -0.014196277596056461, -...  \n",
       "1           9  [-0.00993192009627819, -0.04493372514843941, -...  \n",
       "2           9  [-0.021182995289564133, -0.009731178171932697,...  \n",
       "3          17  [-0.001303257653489709, -0.016508987173438072,...  \n",
       "4          29  [0.006400220561772585, -0.02247047796845436, -...  "
      ]
     },
     "execution_count": 78,
     "metadata": {},
     "output_type": "execute_result"
    },
    {
     "data": {
      "text/plain": [
       "(6640, 7)"
      ]
     },
     "execution_count": 78,
     "metadata": {},
     "output_type": "execute_result"
    }
   ],
   "source": [
    "import pandas as pd\n",
    "import numpy as np\n",
    "\n",
    "fname = '../data/rottentomatoes-20movies-embeddings.csv'\n",
    "df = pd.read_csv(fname, delimiter='\\t', index_col=False)\n",
    "\n",
    "# 결측치 제거 \n",
    "df.dropna(inplace=True)\n",
    "\n",
    "# 문자열을 numpy 배열로 변환\n",
    "df[\"embedding\"] = df['embedding'].apply(eval).apply(np.array)\n",
    "df.head()\n",
    "df.shape"
   ]
  },
  {
   "cell_type": "code",
   "execution_count": 93,
   "metadata": {},
   "outputs": [
    {
     "data": {
      "text/plain": [
       "Movie\n",
       "JOKER                               380\n",
       "CAPTAIN MARVEL                      373\n",
       "ONCE UPON A TIME... IN HOLLYWOOD    372\n",
       "AVENGERS: ENDGAME                   370\n",
       "US                                  358\n",
       "STAR WARS: THE RISE OF SKYWALKER    351\n",
       "A STAR IS BORN                      340\n",
       "BLACK PANTHER                       339\n",
       "AVENGERS: INFINITY WAR              329\n",
       "SOLO: A STAR WARS STORY             321\n",
       "STAR WARS: THE LAST JEDI            320\n",
       "SPIDER-MAN: FAR FROM HOME           319\n",
       "DUNKIRK                             316\n",
       "KNIVES OUT                          311\n",
       "TOY STORY 4                         309\n",
       "READY PLAYER ONE                    308\n",
       "WONDER WOMAN                        307\n",
       "1917                                306\n",
       "FIRST MAN                           306\n",
       "ROGUE ONE: A STAR WARS STORY        305\n",
       "Name: count, dtype: int64"
      ]
     },
     "execution_count": 93,
     "metadata": {},
     "output_type": "execute_result"
    }
   ],
   "source": [
    "df['Movie'].value_counts()"
   ]
  },
  {
   "attachments": {},
   "cell_type": "markdown",
   "metadata": {},
   "source": [
    "### Count Token"
   ]
  },
  {
   "cell_type": "code",
   "execution_count": null,
   "metadata": {},
   "outputs": [],
   "source": [
    "import tiktoken\n",
    "encoding = tiktoken.get_encoding('p50k_base')\n",
    "\n",
    "df['token_count'] = ''\n",
    "\n",
    "for idx, movie, review in zip(df.index.values, df['Movie'].loc[df.index.values], df['Review'].loc[df.index.values]):\n",
    "    df['token_count'].loc[idx] = len(encoding.encode(review))\n",
    "\n",
    "df.head()"
   ]
  },
  {
   "attachments": {},
   "cell_type": "markdown",
   "metadata": {},
   "source": [
    "### 프롬프트 구성"
   ]
  },
  {
   "cell_type": "code",
   "execution_count": 81,
   "metadata": {},
   "outputs": [],
   "source": [
    "# 쿼리 임베딩 값 반환 \n",
    "def get_embedding(text, deployment_id=deployment_id):\n",
    "    \"\"\" \n",
    "    Get embeddings for an input text. \n",
    "    \"\"\"\n",
    "    result = openai.Embedding.create(\n",
    "      deployment_id=deployment_id,\n",
    "      input=text\n",
    "    )\n",
    "    result = np.array(result[\"data\"][0][\"embedding\"])\n",
    "    return result\n",
    "\n",
    "# 두 벡터간 유사도 계산 \n",
    "def vector_similarity(x, y):\n",
    "    \"\"\"\n",
    "    Returns the similarity between two vectors.\n",
    "    Because OpenAI Embeddings are normalized to length 1, the cosine similarity is the same as the dot product.\n",
    "    \"\"\"\n",
    "    similarity = np.dot(x, y)\n",
    "    return similarity \n",
    "\n",
    "# 쿼리와 문서 섹션 간의 유사도를 계산하여, 유사도가 높은 순으로 문서 섹션을 정렬하여 반환\n",
    "def order_document_sections_by_query_similarity(query, contexts):\n",
    "    \"\"\"\n",
    "    Find the query embedding for the supplied query, and compare it against all of the pre-calculated document embeddings\n",
    "    to find the most relevant sections. \n",
    "    Return the list of document sections, sorted by relevance in descending order.\n",
    "    \"\"\"\n",
    "    query_embedding = get_embedding(query)\n",
    "\n",
    "    document_similarities = sorted([\n",
    "        (vector_similarity(query_embedding, doc_embedding), doc_index) for doc_index, doc_embedding in contexts.items()\n",
    "    ], reverse=True)\n",
    "    \n",
    "    return document_similarities"
   ]
  },
  {
   "cell_type": "code",
   "execution_count": 82,
   "metadata": {},
   "outputs": [],
   "source": [
    "MAX_SECTION_LEN = 500 # 섹션 최대 토큰\n",
    "SEPARATOR = \"\\n* \" # 섹션 구분 문자열\n",
    "ENCODING = \"p50k_base\"  # encoding for text-davinci-003\n",
    "\n",
    "encoding = tiktoken.get_encoding(ENCODING)\n",
    "separator_len = len(encoding.encode(SEPARATOR))"
   ]
  },
  {
   "cell_type": "code",
   "execution_count": 83,
   "metadata": {},
   "outputs": [],
   "source": [
    "# 주어진 쿼리에 대해 가장 관련성이 높은 섹션들을 찾아 쿼리와 함께 프롬프트를 구성하는 함수\n",
    "def construct_prompt(query: str, context_embeddings: pd.DataFrame, df: pd.DataFrame) -> str:\n",
    "    \"\"\"\n",
    "    Append sections of document that are most similar to the query.\n",
    "    \"\"\"\n",
    "    most_relevant_document_sections = order_document_sections_by_query_similarity(query, context_embeddings)\n",
    "    \n",
    "    chosen_sections = []\n",
    "    chosen_sections_len = 0\n",
    "    chosen_sections_indexes = []\n",
    "     \n",
    "    for _, section_index in most_relevant_document_sections:\n",
    "        # Add contexts until we run out of space.        \n",
    "        document_section = df.loc[section_index]\n",
    "        \n",
    "        chosen_sections_len += document_section['token_count'] + separator_len\n",
    "        if chosen_sections_len > MAX_SECTION_LEN:\n",
    "            break\n",
    "            \n",
    "        chosen_sections.append(SEPARATOR + \n",
    "                               'movie title: ' + document_section['Movie'] + ' ' +\n",
    "                               document_section['Review'].replace(\"\\n\", \" \"))\n",
    "        \n",
    "        chosen_sections_indexes.append(str(section_index))\n",
    "            \n",
    "    # Diagnostic information\n",
    "    print(f\"Selected {len(chosen_sections)} document sections, with indexes:\")    \n",
    "    for i in chosen_sections_indexes:\n",
    "        print(i + \" \" + df['Movie'].loc[int(i)])\n",
    "    \n",
    "    header = \"\"\"Answer the question truthfully using context, if unsure, say \"I don't know.\"\\n\\nContext:\\n\"\"\"\n",
    "    prompt = header + \"\".join(chosen_sections) + \"\\n\\n Q: \" + query + \"\\n A:\"\n",
    "    \n",
    "    return prompt"
   ]
  },
  {
   "attachments": {},
   "cell_type": "markdown",
   "metadata": {},
   "source": [
    "### 프롬프트 예시 "
   ]
  },
  {
   "cell_type": "code",
   "execution_count": 84,
   "metadata": {},
   "outputs": [
    {
     "name": "stdout",
     "output_type": "stream",
     "text": [
      "Selected 18 document sections, with indexes:\n",
      "3054 CAPTAIN MARVEL\n",
      "2839 CAPTAIN MARVEL\n",
      "2845 CAPTAIN MARVEL\n",
      "3067 CAPTAIN MARVEL\n",
      "2735 CAPTAIN MARVEL\n",
      "2745 CAPTAIN MARVEL\n",
      "3038 CAPTAIN MARVEL\n",
      "3061 CAPTAIN MARVEL\n",
      "2777 CAPTAIN MARVEL\n",
      "2725 CAPTAIN MARVEL\n",
      "2814 CAPTAIN MARVEL\n",
      "3065 CAPTAIN MARVEL\n",
      "2895 CAPTAIN MARVEL\n",
      "3082 CAPTAIN MARVEL\n",
      "3073 CAPTAIN MARVEL\n",
      "2778 CAPTAIN MARVEL\n",
      "2887 CAPTAIN MARVEL\n",
      "2898 CAPTAIN MARVEL\n",
      "Answer the question truthfully using context, if unsure, say \"I don't know.\"\n",
      "\n",
      "Context:\n",
      "\n",
      "* movie title: CAPTAIN MARVEL In short, Captain Marvel is a blast.\n",
      "* movie title: CAPTAIN MARVEL Captain Marvel does the job it was meant to do, and I can understand how some people might like it more than others.\n",
      "* movie title: CAPTAIN MARVEL Arrives in theaters as an adequate superhero film, complete with many of the strengths and weaknesses of the genre.\n",
      "* movie title: CAPTAIN MARVEL Captain Marvel is enjoyable enough as popcorn entertainment.\n",
      "* movie title: CAPTAIN MARVEL Captain Marvel is a good film that does great things for the Marvel Comics Universe.\n",
      "* movie title: CAPTAIN MARVEL There's a lot to like with Captain Marvel, but there's a lot to forget as well.\n",
      "* movie title: CAPTAIN MARVEL With a well-written story, dedicated and fun performances and a sprinkling of '90s nostalgia, Captain Marvel is a gratifying ride with a badass woman at its heart.\n",
      "* movie title: CAPTAIN MARVEL It takes a few wild swings for the movie to finally land, but once it does, it becomes a fun, brisk, and engaging movie - though one nestled comfortably within the Marvel movie formula.\n",
      "* movie title: CAPTAIN MARVEL Captain Marvel, the latest addition to the Marvel Cinematic Universe, rallies itself after a sluggish start, and ultimately proves itself an acceptable crowdpleaser.\n",
      "* movie title: CAPTAIN MARVEL Despite many redeeming qualities about Captain Marvel, I found it to be a very safe film with slightly heavy-handed elements, which wasn't very exciting.\n",
      "* movie title: CAPTAIN MARVEL A hugely enjoyable, funny and masterfully put together offering from Marvel and Disney.\n",
      "* movie title: CAPTAIN MARVEL In the age of the dour superhero flick, Captain Marvel strikes a pleasing chord, at once delivering levity, gravity and spectacle.\n",
      "* movie title: CAPTAIN MARVEL Thrilling, gripping and spectacular.\n",
      "* movie title: CAPTAIN MARVEL Captain Marvel is an entertaining, quality MCU instalment. But those who were hoping that this Marvel landmark would knock their socks off might be left feeling unsatisfied.\n",
      "* movie title: CAPTAIN MARVEL It's everything you might expect a sci-fi superhero movie to be, if you hadn't seen one in a long time.\n",
      "* movie title: CAPTAIN MARVEL Shero. Strong. Courageous. Powerful. You may be able to find flaws and nitpick at what you didn't like, but at the end of the day, Captain Marvel does its job.\n",
      "* movie title: CAPTAIN MARVEL Captain Marvel mixes fun and urgency with an engaging title character. It's absolutely worth seeing.\n",
      "* movie title: CAPTAIN MARVEL Captain Marvel isn't exactly marvellous. But it doesn't disappoint, either.\n",
      "\n",
      " Q: Summarise reviews of Captain Marvel.\n",
      " A:\n"
     ]
    }
   ],
   "source": [
    "query = 'Summarise reviews of Captain Marvel.'\n",
    "prompt = construct_prompt(query=query, context_embeddings=df['embedding'], df=df); print(prompt)"
   ]
  },
  {
   "cell_type": "code",
   "execution_count": 85,
   "metadata": {},
   "outputs": [],
   "source": [
    "def retrieve_information(prompt):\n",
    "    try:\n",
    "        # Request API\n",
    "        response = openai.Completion.create(\n",
    "            deployment_id= \"text-davinci-003\", # Assumed already deployed\n",
    "            prompt=prompt,\n",
    "            temperature=1,\n",
    "            max_tokens=3000,\n",
    "            top_p=1.0,\n",
    "            frequency_penalty=0.0,\n",
    "            presence_penalty=1\n",
    "        )\n",
    "\n",
    "        # response\n",
    "        result = response['choices'][0]['text']; print(result)\n",
    "    except Exception as err:\n",
    "        print(idx)\n",
    "        print(f\"Unexpected {err=}, {type(err)=}\")\n",
    "\n",
    "    return "
   ]
  },
  {
   "attachments": {},
   "cell_type": "markdown",
   "metadata": {},
   "source": [
    "### Example Queries"
   ]
  },
  {
   "cell_type": "code",
   "execution_count": 91,
   "metadata": {},
   "outputs": [
    {
     "name": "stdout",
     "output_type": "stream",
     "text": [
      "Selected 18 document sections, with indexes:\n",
      "3054 CAPTAIN MARVEL\n",
      "2839 CAPTAIN MARVEL\n",
      "2845 CAPTAIN MARVEL\n",
      "3067 CAPTAIN MARVEL\n",
      "2735 CAPTAIN MARVEL\n",
      "2745 CAPTAIN MARVEL\n",
      "3038 CAPTAIN MARVEL\n",
      "3061 CAPTAIN MARVEL\n",
      "2777 CAPTAIN MARVEL\n",
      "2725 CAPTAIN MARVEL\n",
      "2814 CAPTAIN MARVEL\n",
      "3065 CAPTAIN MARVEL\n",
      "2895 CAPTAIN MARVEL\n",
      "3082 CAPTAIN MARVEL\n",
      "3073 CAPTAIN MARVEL\n",
      "2778 CAPTAIN MARVEL\n",
      "2887 CAPTAIN MARVEL\n",
      "2898 CAPTAIN MARVEL\n",
      "Answer the question truthfully using context, if unsure, say \"I don't know.\"\n",
      "\n",
      "Context:\n",
      "\n",
      "* movie title: CAPTAIN MARVEL In short, Captain Marvel is a blast.\n",
      "* movie title: CAPTAIN MARVEL Captain Marvel does the job it was meant to do, and I can understand how some people might like it more than others.\n",
      "* movie title: CAPTAIN MARVEL Arrives in theaters as an adequate superhero film, complete with many of the strengths and weaknesses of the genre.\n",
      "* movie title: CAPTAIN MARVEL Captain Marvel is enjoyable enough as popcorn entertainment.\n",
      "* movie title: CAPTAIN MARVEL Captain Marvel is a good film that does great things for the Marvel Comics Universe.\n",
      "* movie title: CAPTAIN MARVEL There's a lot to like with Captain Marvel, but there's a lot to forget as well.\n",
      "* movie title: CAPTAIN MARVEL With a well-written story, dedicated and fun performances and a sprinkling of '90s nostalgia, Captain Marvel is a gratifying ride with a badass woman at its heart.\n",
      "* movie title: CAPTAIN MARVEL It takes a few wild swings for the movie to finally land, but once it does, it becomes a fun, brisk, and engaging movie - though one nestled comfortably within the Marvel movie formula.\n",
      "* movie title: CAPTAIN MARVEL Captain Marvel, the latest addition to the Marvel Cinematic Universe, rallies itself after a sluggish start, and ultimately proves itself an acceptable crowdpleaser.\n",
      "* movie title: CAPTAIN MARVEL Despite many redeeming qualities about Captain Marvel, I found it to be a very safe film with slightly heavy-handed elements, which wasn't very exciting.\n",
      "* movie title: CAPTAIN MARVEL A hugely enjoyable, funny and masterfully put together offering from Marvel and Disney.\n",
      "* movie title: CAPTAIN MARVEL In the age of the dour superhero flick, Captain Marvel strikes a pleasing chord, at once delivering levity, gravity and spectacle.\n",
      "* movie title: CAPTAIN MARVEL Thrilling, gripping and spectacular.\n",
      "* movie title: CAPTAIN MARVEL Captain Marvel is an entertaining, quality MCU instalment. But those who were hoping that this Marvel landmark would knock their socks off might be left feeling unsatisfied.\n",
      "* movie title: CAPTAIN MARVEL It's everything you might expect a sci-fi superhero movie to be, if you hadn't seen one in a long time.\n",
      "* movie title: CAPTAIN MARVEL Shero. Strong. Courageous. Powerful. You may be able to find flaws and nitpick at what you didn't like, but at the end of the day, Captain Marvel does its job.\n",
      "* movie title: CAPTAIN MARVEL Captain Marvel mixes fun and urgency with an engaging title character. It's absolutely worth seeing.\n",
      "* movie title: CAPTAIN MARVEL Captain Marvel isn't exactly marvellous. But it doesn't disappoint, either.\n",
      "\n",
      " Q: Summarise reviews of Captain Marvel.\n",
      " A:\n",
      " Overall, reviews of Captain Marvel were mostly positive, describing it as an entertaining, quality MCU instalment with fun and urgency, enjoyable popcorn entertainment, and a well-written story with dedicated performances. Some found flaws and felt it was safe or slightly heavy-handed, while others described it has marvellous or thrilling and spectacular.\n"
     ]
    }
   ],
   "source": [
    "query = 'Summarise reviews of Captain Marvel.'\n",
    "prompt = construct_prompt(query=query, context_embeddings=df['embedding'], df=df); print(prompt)\n",
    "retrieve_information(prompt=prompt)"
   ]
  },
  {
   "cell_type": "code",
   "execution_count": 88,
   "metadata": {},
   "outputs": [
    {
     "name": "stdout",
     "output_type": "stream",
     "text": [
      "Selected 14 document sections, with indexes:\n",
      "4971 READY PLAYER ONE\n",
      "4808 READY PLAYER ONE\n",
      "4967 READY PLAYER ONE\n",
      "4753 READY PLAYER ONE\n",
      "4932 READY PLAYER ONE\n",
      "5035 READY PLAYER ONE\n",
      "4858 READY PLAYER ONE\n",
      "4755 READY PLAYER ONE\n",
      "4959 READY PLAYER ONE\n",
      "4856 READY PLAYER ONE\n",
      "4775 READY PLAYER ONE\n",
      "4779 READY PLAYER ONE\n",
      "4934 READY PLAYER ONE\n",
      "4789 READY PLAYER ONE\n",
      "Answer the question truthfully using context, if unsure, say \"I don't know.\"\n",
      "\n",
      "Context:\n",
      "\n",
      "* movie title: READY PLAYER ONE Ready Player One is enjoyably diverting and speaks to the nerd in all of us in some shape or form.\n",
      "* movie title: READY PLAYER ONE \"Ready Player One\" is an engrossing thrill ride that feeds off of your pop culture nostalgia.\n",
      "* movie title: READY PLAYER ONE Ready Player One should make fans of 80s movies, music and video games geek out, but it - and the convoluted way the story's unveiled - might alienate others.\n",
      "* movie title: READY PLAYER ONE If you go to the movies to watch big blockbusters with big explosions and effects, or to just have an enjoyable time with family and friends, then this is the movie for you.\n",
      "* movie title: READY PLAYER ONE Approximately 15 parts fun escapism and one part reflection. In a culture that's obsessed with unearthing obscure references, it will be interesting to see how the movie's fans-and I think there will be many-process the conflicting messages, if at all.\n",
      "* movie title: READY PLAYER ONE Ready Player One is a wild thrill ride that takes pop culture nostalgia to dizzying new heights.\n",
      "* movie title: READY PLAYER ONE It says here you'll at least consider going back to watch \"Player One\" again to find more tidbits you missed the first time.\n",
      "* movie title: READY PLAYER ONE It's a film to watch and enjoy once, but probably not to return to again and again, like Spielberg's best. It's fixated on easter eggs and it's like an easter egg itself: shiny and pretty, inducing a brief sugar high, but ultimately hollow.\n",
      "* movie title: READY PLAYER ONE Aside from its sci-fi adventure essence, Player poses semi-significant questions of identity, and the pros and cons of remaking oneself in a digital dimension.\n",
      "* movie title: READY PLAYER ONE It's a pop culture geek out, but also visually stunning and good fun even for non-gamers.\n",
      "* movie title: READY PLAYER ONE If you are looking for a movie that reminds you why you fell in love with movies in the first place, get prepared for Ready Player One.\n",
      "* movie title: READY PLAYER ONE If you're willing to enjoy Ready Player One superficially you'll have a good time. If you spend longer than five minutes thinking about it you'll consider it a crime against cinema.\n",
      "* movie title: READY PLAYER ONE An eye-popping, nostalgia-fuelled thrill ride to make any nerd explode with delight.\n",
      "* movie title: READY PLAYER ONE The story is fairly conventional ... the cast is only mostly successful ... but the relevance of it all and complete sense of wonder ... make it a trip worth taking ...\n",
      "\n",
      " Q: Should I watch Ready Player One?\n",
      " A:\n",
      " It depends on your preferences. Ready Player One offers a nostalgic thrill ride with conventional storytelling, but might alienate viewers who don't appreciate its pop culture references. If you like watching big blockbusters, or just want to have an enjoyable time with family and friends, then this could be the movie for you.\n"
     ]
    }
   ],
   "source": [
    "query = 'Should I watch Ready Player One?'\n",
    "prompt = construct_prompt(query=query, context_embeddings=df['embedding'], df=df); print(prompt)\n",
    "retrieve_information(prompt=prompt)"
   ]
  },
  {
   "cell_type": "code",
   "execution_count": 89,
   "metadata": {},
   "outputs": [
    {
     "name": "stdout",
     "output_type": "stream",
     "text": [
      "Selected 12 document sections, with indexes:\n",
      "2309 SPIDER-MAN: FAR FROM HOME\n",
      "2213 SPIDER-MAN: FAR FROM HOME\n",
      "2101 SPIDER-MAN: FAR FROM HOME\n",
      "2090 SPIDER-MAN: FAR FROM HOME\n",
      "2066 SPIDER-MAN: FAR FROM HOME\n",
      "2156 SPIDER-MAN: FAR FROM HOME\n",
      "2042 SPIDER-MAN: FAR FROM HOME\n",
      "2207 SPIDER-MAN: FAR FROM HOME\n",
      "4963 READY PLAYER ONE\n",
      "2293 SPIDER-MAN: FAR FROM HOME\n",
      "2054 SPIDER-MAN: FAR FROM HOME\n",
      "2232 SPIDER-MAN: FAR FROM HOME\n",
      "Answer the question truthfully using context, if unsure, say \"I don't know.\"\n",
      "\n",
      "Context:\n",
      "\n",
      "* movie title: SPIDER-MAN: FAR FROM HOME The story is pyrotechnical. The soundtrack is multi-decibel. There is no room for wit, thought, emotion or seriously challenging novelty. But, simultaneously, I'd rather watch Holland do this rubbish than most movie actors.\n",
      "* movie title: SPIDER-MAN: FAR FROM HOME There's not a beat in this film that doesn't land and isn't flawlessly executed, the climatic fight sequence is something that I never thought I'd see on the big screen and it was a glorious thing to experience\n",
      "* movie title: SPIDER-MAN: FAR FROM HOME I didn't buy in to all the plot twists and turns but Tom Holland makes a believable high school Spiderman. Special effects were good but I could have skipped Jake Gyllenhaal and wished for more Marisa Tomei and Jon Favreau\n",
      "* movie title: SPIDER-MAN: FAR FROM HOME One of the problems with Far from Home is its visual mundanity, and it betrays this genre of films' (especially the much vaunted MCU's) slavish obsession with technology.\n",
      "* movie title: SPIDER-MAN: FAR FROM HOME There's much fun to be had here and Tom Holland continues to make the perfect Spidey. So why does it feel so insubstantial?\n",
      "* movie title: SPIDER-MAN: FAR FROM HOME Those who have seen Endgame should be ready for a major change of pace. It's like eating a huge steak for dinner and then being offered a cup of vanilla pudding for dessert. There's nothing wrong with vanilla -- as long as that's all you want.\n",
      "* movie title: SPIDER-MAN: FAR FROM HOME Superhero fatigue is definitely a factor here, as the film can't shake the expected narrative beats of these sorts of movies with the third act a rote exercise of mass mayhem and close calls.\n",
      "* movie title: SPIDER-MAN: FAR FROM HOME A doozy of a story packed with visual surrealism and clever plot surprises.\n",
      "* movie title: READY PLAYER ONE The special effects team create technical marvels, which are as thrilling as going on a theme-park ride.\n",
      "* movie title: SPIDER-MAN: FAR FROM HOME Not just a fun movie, but a great summer movie. Big action, a great cast, some laughs, some thrills, and you can go see it again.\n",
      "* movie title: SPIDER-MAN: FAR FROM HOME I didn't like it as a movie overall, but as an experience...\n",
      "* movie title: SPIDER-MAN: FAR FROM HOME The teen drama, sidekicks, comedy and crushes are great fun. But there's still a CGI- heavy super-hero tale to be told, and an ongoing attempt to shoehorn an Avengers identity on Marvel's most popular hero.\n",
      "\n",
      " Q: Why shouldn't I watch spiderman? I am big fan of visual effects.\n",
      " A:\n",
      " Although SPIDER-MAN: FAR FROM HOME features CGI-heavy sequences, the special effects are largely overshadowed by the teen drama, comedy, and other elements in the movie. If you're looking for a movie with intense visual effects, you may want to consider watching READY PLAYER ONE instead.\n"
     ]
    }
   ],
   "source": [
    "query = 'Why shouldn\\'t I watch spiderman? I am big fan of visual effects.'\n",
    "prompt = construct_prompt(query=query, context_embeddings=df['embedding'], df=df); print(prompt)\n",
    "retrieve_information(prompt=prompt)"
   ]
  },
  {
   "cell_type": "code",
   "execution_count": 51,
   "metadata": {},
   "outputs": [
    {
     "name": "stdout",
     "output_type": "stream",
     "text": [
      "Selected 17 document sections, with indexes:\n",
      "879 1917\n",
      "933 1917\n",
      "753 1917\n",
      "821 1917\n",
      "759 1917\n",
      "786 1917\n",
      "774 1917\n",
      "798 1917\n",
      "778 1917\n",
      "817 1917\n",
      "674 1917\n",
      "959 1917\n",
      "895 1917\n",
      "826 1917\n",
      "775 1917\n",
      "719 1917\n",
      "905 1917\n",
      "Answer the question truthfully using context, if unsure, say \"I don't know.\"\n",
      "\n",
      "Context:\n",
      "\n",
      "* movie title: 1917 Sitting through it is like watching someone else playing a video game for two solid hours, and not an especially compelling one at that.\n",
      "* movie title: 1917 No, the long takes don't transform \"1917\" into the cinema event of 2019.\n",
      "* movie title: 1917 Considering the subject matter, I was left extremely impressed but not particularly moved.\n",
      "* movie title: 1917 This is a movie one does not watch so much as witness. It simply must be seen.\n",
      "* movie title: 1917 In other words, \"1917\" often seems built more to wow audience than make them feel. And it may well have been a better film set around extended cuts than fully committing to the one-take gimmick.\n",
      "* movie title: 1917 With the stakes being high, it did not take me long to become invested in this story.\n",
      "* movie title: 1917 1917 is a must-see movie, and please, watch it on the big screen.\n",
      "* movie title: 1917 We're supposed to spend the entire film/journey with just two British soldiers, but do we really care about them? Nah.\n",
      "* movie title: 1917 From the sole perspective of the filmmaking craft, \"1917\" is worth a watch.\n",
      "* movie title: 1917 Bracing \"1917\" nearly loses its way.\n",
      "* movie title: 1917 The film's final hour loses steam and is beset by more than a few narrative lapses it ultimately can't overcome. Still, this is a worthwhile epic best seen on the big screen.\n",
      "* movie title: 1917 1917 is not only a technical feat, it's also an anxiety-inducing war thriller with digressions into horror and even French impressionism.\n",
      "* movie title: 1917 '1917' unfolds like an overstuffed video game. It becomes rather silly and farfetched the further toward the front it proceeds. The movie features some decent action sequences, which are presented sterilely and unimaginatively ...\n",
      "* movie title: 1917 There are problems with the single-take approach, all of them destined to take the viewer out of the story.\n",
      "* movie title: 1917 I couldn't take my eyes off of the screen.\n",
      "* movie title: 1917 It proves that its long takes, instead of being a way of making things more difficult or 'artistic', are a vital component for this particular story. [Full review in Spanish]\n",
      "* movie title: 1917 As a war film, 1917 doesn't have much in the way of new ideas to offer - and maybe there aren't any for the genre now - but it's so elegantly crafted it takes the breath away.\n",
      "\n",
      " Q: I am not a big fan of lengthy movie, should I watch 1917?\n",
      " A:\n",
      " That is entirely up to you. While \"1917\" does feature long takes, many reviewers have noted that it still manages to keep the audience engaged and moves at a relentless pace. If you are interested in watching a compelling war thriller, then \"1917\" may be a worthwile watch for you.\n"
     ]
    }
   ],
   "source": [
    "query = 'I am not a big fan of lengthy movie, should I watch 1917?'\n",
    "prompt = construct_prompt(query=query, context_embeddings=df['embedding'], df=df); print(prompt)\n",
    "retrieve_information(prompt=prompt)"
   ]
  },
  {
   "cell_type": "code",
   "execution_count": 57,
   "metadata": {},
   "outputs": [
    {
     "name": "stdout",
     "output_type": "stream",
     "text": [
      "Selected 16 document sections, with indexes:\n",
      "2774 CAPTAIN MARVEL\n",
      "2823 CAPTAIN MARVEL\n",
      "1931 TOY STORY 4\n",
      "2887 CAPTAIN MARVEL\n",
      "3086 CAPTAIN MARVEL\n",
      "1744 TOY STORY 4\n",
      "1833 TOY STORY 4\n",
      "1793 TOY STORY 4\n",
      "1758 TOY STORY 4\n",
      "2895 CAPTAIN MARVEL\n",
      "3054 CAPTAIN MARVEL\n",
      "3038 CAPTAIN MARVEL\n",
      "1842 TOY STORY 4\n",
      "3003 CAPTAIN MARVEL\n",
      "2841 CAPTAIN MARVEL\n",
      "1805 TOY STORY 4\n",
      "Answer the question truthfully using context, if unsure, say \"I don't know.\"\n",
      "\n",
      "Context:\n",
      "\n",
      "* movie title: CAPTAIN MARVEL Captain Marvel gives everything a fan girl or boy could want - spectacle, action, heart, and inspiration.\n",
      "* movie title: CAPTAIN MARVEL Great visual effects and acting by Brie Larson make for an enjoyable watch that embraces a confident and smart woman character, something rarely seen in this genre.\n",
      "* movie title: TOY STORY 4 The visuals are so impressive that I reached the point where I wasn't sure whether Cooley and his army of Pixar technicians inserted \"real\" elements like rain and grass into a digitally animated landscape, like a backward Who Framed Roger Rabbit.\n",
      "* movie title: CAPTAIN MARVEL Captain Marvel mixes fun and urgency with an engaging title character. It's absolutely worth seeing.\n",
      "* movie title: CAPTAIN MARVEL And entertaining and visually dazzling story that is weighed down by being both an origin tale as well as the appetizer to a highly-anticipated film finale\n",
      "* movie title: TOY STORY 4 I appreciate the high-level creativity in the storytelling...although there's nothing new to see...\n",
      "* movie title: TOY STORY 4 Stunning animation and a storyline filled with adventure, comedy, and a few frights (as with any good Disney film) make this a welcomed return to the Pixar franchise.\n",
      "* movie title: TOY STORY 4 It's truly the best-looking movie Pixar has made to date.\n",
      "* movie title: TOY STORY 4 While I'm still not sure if Toy Story 4 is wholly necessary (3 ended things on such a beautiful note), the series still proves it has heart and visual creativity in unnatural abundance.\n",
      "* movie title: CAPTAIN MARVEL Thrilling, gripping and spectacular.\n",
      "* movie title: CAPTAIN MARVEL In short, Captain Marvel is a blast.\n",
      "* movie title: CAPTAIN MARVEL With a well-written story, dedicated and fun performances and a sprinkling of '90s nostalgia, Captain Marvel is a gratifying ride with a badass woman at its heart.\n",
      "* movie title: TOY STORY 4 The feature-film CG-animated series that changed the industry is gorgeously & hilariously completed...be entertained by...the best friends any film goer could ask for!\n",
      "* movie title: CAPTAIN MARVEL This superhero flick is basic but still engrossing, enthralling, and rewarding on many levels.\n",
      "* movie title: CAPTAIN MARVEL Beyond the 90s aesthetic Captain Marvel harkens back to an age in action cinema when not every single minute of film needed to be filled with exposition or seizure-inducing CGI spectacles to engage an audience.\n",
      "* movie title: TOY STORY 4 Bright and shiny, with much of the third act set in and around a carnival, Toy Story 4 boasts impressive animation.\n",
      "\n",
      " Q: I love visual effects, should I watch Captain Marvel or TOY STORY?\n",
      " A:\n",
      " I think you should watch both films. Captain Marvel has great visual effects and acting by Brie Larson, while Toy Story 4 has stunning animation and a storyline filled with adventure, comedy, and a few frights.\n"
     ]
    }
   ],
   "source": [
    "query = 'I love visual effects, should I watch Captain Marvel or TOY STORY?'\n",
    "prompt = construct_prompt(query=query, context_embeddings=df['embedding'], df=df); print(prompt)\n",
    "retrieve_information(prompt=prompt)"
   ]
  },
  {
   "cell_type": "code",
   "execution_count": 53,
   "metadata": {},
   "outputs": [
    {
     "name": "stdout",
     "output_type": "stream",
     "text": [
      "Selected 15 document sections, with indexes:\n",
      "5719 DUNKIRK\n",
      "1817 TOY STORY 4\n",
      "5843 DUNKIRK\n",
      "2369 AVENGERS: ENDGAME\n",
      "2003 TOY STORY 4\n",
      "3106 US\n",
      "2998 CAPTAIN MARVEL\n",
      "3347 US\n",
      "2463 AVENGERS: ENDGAME\n",
      "1977 TOY STORY 4\n",
      "5657 STAR WARS: THE LAST JEDI\n",
      "1917 TOY STORY 4\n",
      "2665 AVENGERS: ENDGAME\n",
      "4762 READY PLAYER ONE\n",
      "5652 STAR WARS: THE LAST JEDI\n",
      "Answer the question truthfully using context, if unsure, say \"I don't know.\"\n",
      "\n",
      "Context:\n",
      "\n",
      "* movie title: DUNKIRK It's an emotional gauntlet, as you'll be glued to the edge of your seats with your eyes staring at the screening.\n",
      "* movie title: TOY STORY 4 This might be just the most emotional experience you'll have in a cinema all year.\n",
      "* movie title: DUNKIRK Dunkirk brings a lump to the throat and a tear to the eye. Highly recommended.\n",
      "* movie title: AVENGERS: ENDGAME It's one of the funniest movies of the 20-plus in the franchise, but it's also the one that made me the most emotional. But more than anything, it left me satisfied and thrilled that I kept watching them through the years.\n",
      "* movie title: TOY STORY 4 Bring some Kleenex and get ready to cry your heart out.\n",
      "* movie title: US I love this film... in so many different ways.\n",
      "* movie title: CAPTAIN MARVEL It's cool...I mean, it's enjoyable...I mean, it's pleasant, but I feel like the emotional impact you take away from the movie relies on the emotional connection you bring into the theater with you\n",
      "* movie title: US \"Us\" runs the gamut of emotions -- a film that is smart, funny, terrifying and absolutely memorable. It embraces the communal experience of a packed theater quite well.\n",
      "* movie title: AVENGERS: ENDGAME Emotional heft combines with a sweeping sense of the epic, often within the same scene.\n",
      "* movie title: TOY STORY 4 I don't think anything can surpass Toy Story 3 for emotional heft (If it didn't break you, you aren't human) so 4 wisely doesn't try. It makes up for it with laughs - lots of laughs.\n",
      "* movie title: STAR WARS: THE LAST JEDI When the feelings come in The Last Jedi, and they do come, they're deep and they're real. Go ahead and try to watch the penultimate scene without crying, or pretending not to. And may the Force be with you.\n",
      "* movie title: TOY STORY 4 Pixar's writers know how to stir our emotions (even when we try hard not to cry, they get us every time).\n",
      "* movie title: AVENGERS: ENDGAME \"Endgame\" is the most emotional of the Avengers movies, a tear-stained farewell that effectively tugs at the heartstrings while simultaneously blowing them up with a large army's worth of CGI warfare.\n",
      "* movie title: READY PLAYER ONE The character development and emotional stakes may be undercooked, but it's such a thrill to watch a filmmaker of Spielberg's pedigree unrestrained and having fun.\n",
      "* movie title: STAR WARS: THE LAST JEDI This is a GREAT Star Wars movie, possibly the best. It's certainly more satisfying and easily the most emotional.\n",
      "\n",
      " Q: I love emotional movies, what movie should I watch?\n",
      " A:\n",
      " If you love emotional movies, then you should watch Toy Story 4 or Star Wars: The Last Jedi.\n"
     ]
    }
   ],
   "source": [
    "query = 'I love emotional movies, what movie should I watch?'\n",
    "prompt = construct_prompt(query=query, context_embeddings=df['embedding'], df=df); print(prompt)\n",
    "retrieve_information(prompt=prompt)"
   ]
  },
  {
   "cell_type": "code",
   "execution_count": 54,
   "metadata": {},
   "outputs": [
    {
     "name": "stdout",
     "output_type": "stream",
     "text": [
      "Selected 14 document sections, with indexes:\n",
      "1110 JOKER\n",
      "1245 JOKER\n",
      "1164 JOKER\n",
      "1028 JOKER\n",
      "1349 JOKER\n",
      "1019 JOKER\n",
      "1295 JOKER\n",
      "1269 JOKER\n",
      "1336 JOKER\n",
      "1038 JOKER\n",
      "1256 JOKER\n",
      "1331 JOKER\n",
      "1314 JOKER\n",
      "1151 JOKER\n",
      "Answer the question truthfully using context, if unsure, say \"I don't know.\"\n",
      "\n",
      "Context:\n",
      "\n",
      "* movie title: JOKER Intense and disturbing, Joker is a well-crafted movie, if rather open-ended in its intentions.\n",
      "* movie title: JOKER The Joker is deadly serious, a bleak but oddly beautiful horror film that evokes the nightmarish nihilism of Martin Scorsese's Taxi Driver.\n",
      "* movie title: JOKER Joker is a devastatingly bold, brashly aggressive, truly haunting homage to the clown prince of crime. It stands proud as one of the most troubling, worrisome and delightfully distressing pieces of comic book cinema.\n",
      "* movie title: JOKER Joker is a wicked trip.\n",
      "* movie title: JOKER Joker is wild, crazy, and intense, and I was left speechless by the end of the film. Joaquin Phoenix delivers a spine-chilling performance. Todd Phillips has done to the Joker what Nolan has done to Batman with an origin story that feels very real.\n",
      "* movie title: JOKER If you're a die-hard Batman fan, some things are definitely going to throw you off. If you're a casual comic fan, the performance is great and all-around it was chilling and tense.\n",
      "* movie title: JOKER Joker is powerful and disturbing..in a good way. Phoenix has never been better AND scary. A highly entertaining drama that evolves to a can't forget thriller.\n",
      "* movie title: JOKER It's a very good movie, and it features a blood-curdling performance from Joaquin Phoenix, in the most frightening portrayal of a violent maniac in decades.\n",
      "* movie title: JOKER Whether Joker is a social commentary on issues such as poverty or mental illness, a new mysterious take on the best known DC Comics villain, or another unforgettable piece of cinema by Martin Scorsese, you'll need to see to believe it.\n",
      "* movie title: JOKER Is it possible, in the world of 'Joker,' to believe in real heroism? Do the filmmakers even care about that question?\n",
      "* movie title: JOKER Disturbing and intense, yet undeniably brilliant, this may very well become the definitive origin tale of the Joker.\n",
      "* movie title: JOKER Joaquin Phoenix kills it in dark, timely DC origin movie that is no laughing matter. Will he be second Joker to win an Oscar?\n",
      "* movie title: JOKER A violent, nihilistic horror film masquerading as both a character drama and a comic book movie\n",
      "* movie title: JOKER \"Joker\" stays with the viewer, forcing you to consider it more carefully. The picture you'll get is dark - haunting, disturbing and all too real.\n",
      "\n",
      " Q: Is Joker a scary movie?\n",
      " A:\n",
      " Yes, Joker is a scary movie.\n"
     ]
    }
   ],
   "source": [
    "query = 'Is Joker a scary movie?'\n",
    "prompt = construct_prompt(query=query, context_embeddings=df['embedding'], df=df); print(prompt)\n",
    "retrieve_information(prompt=prompt)"
   ]
  },
  {
   "cell_type": "code",
   "execution_count": 55,
   "metadata": {},
   "outputs": [
    {
     "name": "stdout",
     "output_type": "stream",
     "text": [
      "Selected 12 document sections, with indexes:\n",
      "1314 JOKER\n",
      "1110 JOKER\n",
      "1336 JOKER\n",
      "1346 JOKER\n",
      "1028 JOKER\n",
      "1242 JOKER\n",
      "1347 JOKER\n",
      "1164 JOKER\n",
      "1227 JOKER\n",
      "1245 JOKER\n",
      "1169 JOKER\n",
      "1299 JOKER\n",
      "Answer the question truthfully using context, if unsure, say \"I don't know.\"\n",
      "\n",
      "Context:\n",
      "\n",
      "* movie title: JOKER A violent, nihilistic horror film masquerading as both a character drama and a comic book movie\n",
      "* movie title: JOKER Intense and disturbing, Joker is a well-crafted movie, if rather open-ended in its intentions.\n",
      "* movie title: JOKER Whether Joker is a social commentary on issues such as poverty or mental illness, a new mysterious take on the best known DC Comics villain, or another unforgettable piece of cinema by Martin Scorsese, you'll need to see to believe it.\n",
      "* movie title: JOKER More character study than comic book movie, and anchored by an Oscar-worthy Joaquin Phoenix, Joker is a bravura blockbuster that proves you don't need superpowered scraps to dazzle.\n",
      "* movie title: JOKER Joker is a wicked trip.\n",
      "* movie title: JOKER Gritty and grubby, garish and loud, violent and depressing, Joker is a blunt instrument of a movie - though it is a good movie. Phoenix is superb, Arthur Fleck's downward spiral inverted into an ascent to antihero status as Gotham seethes then explodes.\n",
      "* movie title: JOKER Simply calling Joker a \"comic book movie\" does it a disservice; it is a story that feels like it could be about any number of disaffected people who are marginalized by the ruthless world in which we live.\n",
      "* movie title: JOKER Joker is a devastatingly bold, brashly aggressive, truly haunting homage to the clown prince of crime. It stands proud as one of the most troubling, worrisome and delightfully distressing pieces of comic book cinema.\n",
      "* movie title: JOKER As a piece of art, and film is an art form, Joker masterfully finds a voice for the brutal and believable backstory for The Joker. In the end, however, this is a film for super hero fans.\n",
      "* movie title: JOKER The Joker is deadly serious, a bleak but oddly beautiful horror film that evokes the nightmarish nihilism of Martin Scorsese's Taxi Driver.\n",
      "* movie title: JOKER Searing onto the screen as both a revisionist backstory of an iconic villain character and a pointed commentary on the cuddlier aspects of the Marvel Cinematic Universe, the new Joker movie is bold, violent, and unnerving.\n",
      "* movie title: JOKER Todd Phillips' Joker offers a new take on The Clown Prince of Crime, one that unapologetically holds up a mirror in our divided modern times.\n",
      "\n",
      " Q: What type of movie is Joker?\n",
      " A:\n",
      " Joker is a dark, violent, nihilistic character drama and comic book movie.\n"
     ]
    }
   ],
   "source": [
    "query = 'What type of movie is Joker?'\n",
    "prompt = construct_prompt(query=query, context_embeddings=df['embedding'], df=df); print(prompt)\n",
    "retrieve_information(prompt=prompt)"
   ]
  }
 ],
 "metadata": {
  "kernelspec": {
   "display_name": "azureml_py38",
   "language": "python",
   "name": "python3"
  },
  "language_info": {
   "codemirror_mode": {
    "name": "ipython",
    "version": 3
   },
   "file_extension": ".py",
   "mimetype": "text/x-python",
   "name": "python",
   "nbconvert_exporter": "python",
   "pygments_lexer": "ipython3",
   "version": "3.8.8"
  },
  "orig_nbformat": 4,
  "vscode": {
   "interpreter": {
    "hash": "6d65a8c07f5b6469e0fc613f182488c0dccce05038bbda39e5ac9075c0454d11"
   }
  }
 },
 "nbformat": 4,
 "nbformat_minor": 2
}
